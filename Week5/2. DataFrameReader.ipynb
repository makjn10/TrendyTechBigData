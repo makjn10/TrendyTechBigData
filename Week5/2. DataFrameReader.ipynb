{
 "cells": [
  {
   "cell_type": "code",
   "execution_count": 2,
   "id": "95315261",
   "metadata": {},
   "outputs": [],
   "source": [
    "from pyspark.sql import SparkSession\n",
    "import getpass\n",
    "username = getpass.getuser()\n",
    "spark = SparkSession. \\\n",
    "    builder. \\\n",
    "    config('spark.ui.port','0'). \\\n",
    "    config(\"spark.sql.warehouse.dir\", f\"/user/{username}/warehouse\"). \\\n",
    "    enableHiveSupport(). \\\n",
    "    master('yarn'). \\\n",
    "    getOrCreate()"
   ]
  },
  {
   "cell_type": "code",
   "execution_count": 3,
   "id": "f70d8b76",
   "metadata": {},
   "outputs": [],
   "source": [
    "orders_df = spark.read \\\n",
    ".format(\"csv\") \\\n",
    ".option(\"header\",\"true\") \\\n",
    ".option(\"inferSchema\", \"true\") \\\n",
    ".load(\"/user/itv019463/TrendyTechBigData/Week5/data/ordersWithHeader.csv\")"
   ]
  },
  {
   "cell_type": "code",
   "execution_count": 4,
   "id": "b6809f6e",
   "metadata": {},
   "outputs": [
    {
     "name": "stdout",
     "output_type": "stream",
     "text": [
      "+--------+--------------------+-----------+---------------+\n",
      "|order_id|          order_date|customer_id|   order_status|\n",
      "+--------+--------------------+-----------+---------------+\n",
      "|       1|2013-07-25 00:00:...|      11599|         CLOSED|\n",
      "|       2|2013-07-25 00:00:...|        256|PENDING_PAYMENT|\n",
      "|       3|2013-07-25 00:00:...|      12111|       COMPLETE|\n",
      "|       4|2013-07-25 00:00:...|       8827|         CLOSED|\n",
      "|       5|2013-07-25 00:00:...|      11318|       COMPLETE|\n",
      "+--------+--------------------+-----------+---------------+\n",
      "only showing top 5 rows\n",
      "\n"
     ]
    }
   ],
   "source": [
    "orders_df.show(5)"
   ]
  },
  {
   "cell_type": "code",
   "execution_count": 5,
   "id": "a0fdb134",
   "metadata": {},
   "outputs": [],
   "source": [
    "filtered_df = orders_df.where(\"customer_id = 11599\")"
   ]
  },
  {
   "cell_type": "code",
   "execution_count": 6,
   "id": "47642208",
   "metadata": {},
   "outputs": [
    {
     "name": "stdout",
     "output_type": "stream",
     "text": [
      "+--------+--------------------+-----------+------------+\n",
      "|order_id|          order_date|customer_id|order_status|\n",
      "+--------+--------------------+-----------+------------+\n",
      "|       1|2013-07-25 00:00:...|      11599|      CLOSED|\n",
      "|   11397|2013-10-03 00:00:...|      11599|    COMPLETE|\n",
      "|   23908|2013-12-20 00:00:...|      11599|    COMPLETE|\n",
      "|   53545|2014-06-27 00:00:...|      11599|     PENDING|\n",
      "|   59911|2013-10-17 00:00:...|      11599|  PROCESSING|\n",
      "+--------+--------------------+-----------+------------+\n",
      "\n"
     ]
    }
   ],
   "source": [
    "filtered_df.show()"
   ]
  },
  {
   "cell_type": "code",
   "execution_count": 7,
   "id": "55158ade",
   "metadata": {},
   "outputs": [
    {
     "name": "stdout",
     "output_type": "stream",
     "text": [
      "+--------+---------------------+-----------+------------+\n",
      "|order_id|order_date           |customer_id|order_status|\n",
      "+--------+---------------------+-----------+------------+\n",
      "|1       |2013-07-25 00:00:00.0|11599      |CLOSED      |\n",
      "|11397   |2013-10-03 00:00:00.0|11599      |COMPLETE    |\n",
      "|23908   |2013-12-20 00:00:00.0|11599      |COMPLETE    |\n",
      "|53545   |2014-06-27 00:00:00.0|11599      |PENDING     |\n",
      "|59911   |2013-10-17 00:00:00.0|11599      |PROCESSING  |\n",
      "+--------+---------------------+-----------+------------+\n",
      "\n"
     ]
    }
   ],
   "source": [
    "filtered_df.show(truncate = False)"
   ]
  },
  {
   "cell_type": "code",
   "execution_count": null,
   "id": "2e46cc43",
   "metadata": {},
   "outputs": [],
   "source": []
  },
  {
   "cell_type": "code",
   "execution_count": 8,
   "id": "a9ba34dd",
   "metadata": {},
   "outputs": [],
   "source": [
    "filtered_df = orders_df.filter(\"customer_id = 11599\")"
   ]
  },
  {
   "cell_type": "code",
   "execution_count": 9,
   "id": "9fdb900e",
   "metadata": {},
   "outputs": [
    {
     "name": "stdout",
     "output_type": "stream",
     "text": [
      "+--------+---------------------+-----------+------------+\n",
      "|order_id|order_date           |customer_id|order_status|\n",
      "+--------+---------------------+-----------+------------+\n",
      "|1       |2013-07-25 00:00:00.0|11599      |CLOSED      |\n",
      "|11397   |2013-10-03 00:00:00.0|11599      |COMPLETE    |\n",
      "|23908   |2013-12-20 00:00:00.0|11599      |COMPLETE    |\n",
      "|53545   |2014-06-27 00:00:00.0|11599      |PENDING     |\n",
      "|59911   |2013-10-17 00:00:00.0|11599      |PROCESSING  |\n",
      "+--------+---------------------+-----------+------------+\n",
      "\n"
     ]
    }
   ],
   "source": [
    "filtered_df.show(truncate = False)"
   ]
  },
  {
   "cell_type": "code",
   "execution_count": null,
   "id": "b6dd76d8",
   "metadata": {},
   "outputs": [],
   "source": []
  },
  {
   "cell_type": "code",
   "execution_count": null,
   "id": "97b23eec",
   "metadata": {},
   "outputs": [],
   "source": [
    "# Dataframe and Spark SQL table are interchangeable"
   ]
  },
  {
   "cell_type": "code",
   "execution_count": 23,
   "id": "51a053e1",
   "metadata": {},
   "outputs": [],
   "source": [
    "orders_df.createOrReplaceTempView(\"orders\")"
   ]
  },
  {
   "cell_type": "code",
   "execution_count": 24,
   "id": "852e1343",
   "metadata": {},
   "outputs": [],
   "source": [
    "# orders we can use as a normal DB table but it is a spark view distributed across the cluster"
   ]
  },
  {
   "cell_type": "code",
   "execution_count": 25,
   "id": "b5450ce9",
   "metadata": {},
   "outputs": [],
   "source": [
    "filtered_df_sql = spark.sql(\"Select * from orders where order_status = 'CLOSED'\")"
   ]
  },
  {
   "cell_type": "code",
   "execution_count": 26,
   "id": "a1b1dbc4",
   "metadata": {},
   "outputs": [
    {
     "name": "stdout",
     "output_type": "stream",
     "text": [
      "+--------+--------------------+-----------+------------+\n",
      "|order_id|          order_date|customer_id|order_status|\n",
      "+--------+--------------------+-----------+------------+\n",
      "|       1|2013-07-25 00:00:...|      11599|      CLOSED|\n",
      "|       4|2013-07-25 00:00:...|       8827|      CLOSED|\n",
      "|      12|2013-07-25 00:00:...|       1837|      CLOSED|\n",
      "|      18|2013-07-25 00:00:...|       1205|      CLOSED|\n",
      "|      24|2013-07-25 00:00:...|      11441|      CLOSED|\n",
      "+--------+--------------------+-----------+------------+\n",
      "only showing top 5 rows\n",
      "\n"
     ]
    }
   ],
   "source": [
    "filtered_df_sql.show(5)"
   ]
  },
  {
   "cell_type": "code",
   "execution_count": null,
   "id": "ba1238de",
   "metadata": {},
   "outputs": [],
   "source": []
  },
  {
   "cell_type": "code",
   "execution_count": 27,
   "id": "9ca184be",
   "metadata": {},
   "outputs": [],
   "source": [
    "table_to_df = spark.read.table(\"orders\")"
   ]
  },
  {
   "cell_type": "code",
   "execution_count": 28,
   "id": "36cac02b",
   "metadata": {},
   "outputs": [
    {
     "name": "stdout",
     "output_type": "stream",
     "text": [
      "+--------+--------------------+-----------+---------------+\n",
      "|order_id|          order_date|customer_id|   order_status|\n",
      "+--------+--------------------+-----------+---------------+\n",
      "|       1|2013-07-25 00:00:...|      11599|         CLOSED|\n",
      "|       2|2013-07-25 00:00:...|        256|PENDING_PAYMENT|\n",
      "|       3|2013-07-25 00:00:...|      12111|       COMPLETE|\n",
      "|       4|2013-07-25 00:00:...|       8827|         CLOSED|\n",
      "|       5|2013-07-25 00:00:...|      11318|       COMPLETE|\n",
      "+--------+--------------------+-----------+---------------+\n",
      "only showing top 5 rows\n",
      "\n"
     ]
    }
   ],
   "source": [
    "table_to_df.show(5)"
   ]
  },
  {
   "cell_type": "code",
   "execution_count": null,
   "id": "fa4452d5",
   "metadata": {},
   "outputs": [],
   "source": []
  },
  {
   "cell_type": "code",
   "execution_count": null,
   "id": "67c4b3f7",
   "metadata": {},
   "outputs": [],
   "source": []
  },
  {
   "cell_type": "code",
   "execution_count": 11,
   "id": "0603c504",
   "metadata": {},
   "outputs": [],
   "source": [
    "orders_df_2 = spark.read.csv(\"/user/itv019463/TrendyTechBigData/Week5/data/ordersWithHeader.csv\", header = \"true\", inferSchema = \"true\")"
   ]
  },
  {
   "cell_type": "code",
   "execution_count": 12,
   "id": "adb8321c",
   "metadata": {},
   "outputs": [
    {
     "name": "stdout",
     "output_type": "stream",
     "text": [
      "+--------+--------------------+-----------+---------------+\n",
      "|order_id|          order_date|customer_id|   order_status|\n",
      "+--------+--------------------+-----------+---------------+\n",
      "|       1|2013-07-25 00:00:...|      11599|         CLOSED|\n",
      "|       2|2013-07-25 00:00:...|        256|PENDING_PAYMENT|\n",
      "|       3|2013-07-25 00:00:...|      12111|       COMPLETE|\n",
      "|       4|2013-07-25 00:00:...|       8827|         CLOSED|\n",
      "|       5|2013-07-25 00:00:...|      11318|       COMPLETE|\n",
      "+--------+--------------------+-----------+---------------+\n",
      "only showing top 5 rows\n",
      "\n"
     ]
    }
   ],
   "source": [
    "orders_df_2.show(5)"
   ]
  },
  {
   "cell_type": "code",
   "execution_count": 13,
   "id": "746ee6c8",
   "metadata": {},
   "outputs": [],
   "source": [
    "orders_df_json = spark.read.json(\"/public/trendytech/datasets/orders.json\")"
   ]
  },
  {
   "cell_type": "code",
   "execution_count": 14,
   "id": "7dcf69bd",
   "metadata": {},
   "outputs": [
    {
     "name": "stdout",
     "output_type": "stream",
     "text": [
      "+-----------+--------------------+--------+---------------+\n",
      "|customer_id|          order_date|order_id|   order_status|\n",
      "+-----------+--------------------+--------+---------------+\n",
      "|      11599|2013-07-25 00:00:...|       1|         CLOSED|\n",
      "|        256|2013-07-25 00:00:...|       2|PENDING_PAYMENT|\n",
      "|      12111|2013-07-25 00:00:...|       3|       COMPLETE|\n",
      "|       8827|2013-07-25 00:00:...|       4|         CLOSED|\n",
      "|      11318|2013-07-25 00:00:...|       5|       COMPLETE|\n",
      "+-----------+--------------------+--------+---------------+\n",
      "only showing top 5 rows\n",
      "\n"
     ]
    }
   ],
   "source": [
    "orders_df_json.show(5)"
   ]
  },
  {
   "cell_type": "code",
   "execution_count": 15,
   "id": "575d4843",
   "metadata": {},
   "outputs": [
    {
     "name": "stdout",
     "output_type": "stream",
     "text": [
      "root\n",
      " |-- customer_id: long (nullable = true)\n",
      " |-- order_date: string (nullable = true)\n",
      " |-- order_id: long (nullable = true)\n",
      " |-- order_status: string (nullable = true)\n",
      "\n"
     ]
    }
   ],
   "source": [
    "orders_df_json.printSchema()"
   ]
  },
  {
   "cell_type": "code",
   "execution_count": 16,
   "id": "f5d12752",
   "metadata": {},
   "outputs": [],
   "source": [
    "orders_df_parquet = spark.read.parquet(\"/public/trendytech/datasets/ordersparquet/*\")"
   ]
  },
  {
   "cell_type": "code",
   "execution_count": 17,
   "id": "aa4730b1",
   "metadata": {},
   "outputs": [
    {
     "name": "stdout",
     "output_type": "stream",
     "text": [
      "+-----------+--------------------+--------+---------------+\n",
      "|customer_id|          order_date|order_id|   order_status|\n",
      "+-----------+--------------------+--------+---------------+\n",
      "|      11599|2013-07-25 00:00:...|       1|         CLOSED|\n",
      "|        256|2013-07-25 00:00:...|       2|PENDING_PAYMENT|\n",
      "|      12111|2013-07-25 00:00:...|       3|       COMPLETE|\n",
      "|       8827|2013-07-25 00:00:...|       4|         CLOSED|\n",
      "|      11318|2013-07-25 00:00:...|       5|       COMPLETE|\n",
      "+-----------+--------------------+--------+---------------+\n",
      "only showing top 5 rows\n",
      "\n"
     ]
    }
   ],
   "source": [
    "orders_df_parquet.show(5)"
   ]
  },
  {
   "cell_type": "code",
   "execution_count": 18,
   "id": "7013af8a",
   "metadata": {},
   "outputs": [
    {
     "name": "stdout",
     "output_type": "stream",
     "text": [
      "root\n",
      " |-- customer_id: long (nullable = true)\n",
      " |-- order_date: string (nullable = true)\n",
      " |-- order_id: long (nullable = true)\n",
      " |-- order_status: string (nullable = true)\n",
      "\n"
     ]
    }
   ],
   "source": [
    "orders_df_parquet.printSchema()"
   ]
  },
  {
   "cell_type": "code",
   "execution_count": 19,
   "id": "7606c13a",
   "metadata": {},
   "outputs": [],
   "source": [
    "orders_df_orc = spark.read.orc(\"/public/trendytech/datasets/ordersorc\")"
   ]
  },
  {
   "cell_type": "code",
   "execution_count": 20,
   "id": "9399dea1",
   "metadata": {},
   "outputs": [
    {
     "name": "stdout",
     "output_type": "stream",
     "text": [
      "+-----------+--------------------+--------+---------------+\n",
      "|customer_id|          order_date|order_id|   order_status|\n",
      "+-----------+--------------------+--------+---------------+\n",
      "|      11599|2013-07-25 00:00:...|       1|         CLOSED|\n",
      "|        256|2013-07-25 00:00:...|       2|PENDING_PAYMENT|\n",
      "|      12111|2013-07-25 00:00:...|       3|       COMPLETE|\n",
      "|       8827|2013-07-25 00:00:...|       4|         CLOSED|\n",
      "|      11318|2013-07-25 00:00:...|       5|       COMPLETE|\n",
      "+-----------+--------------------+--------+---------------+\n",
      "only showing top 5 rows\n",
      "\n"
     ]
    }
   ],
   "source": [
    "orders_df_orc.show(5)"
   ]
  },
  {
   "cell_type": "code",
   "execution_count": 21,
   "id": "58452724",
   "metadata": {},
   "outputs": [
    {
     "name": "stdout",
     "output_type": "stream",
     "text": [
      "root\n",
      " |-- customer_id: long (nullable = true)\n",
      " |-- order_date: string (nullable = true)\n",
      " |-- order_id: long (nullable = true)\n",
      " |-- order_status: string (nullable = true)\n",
      "\n"
     ]
    }
   ],
   "source": [
    "orders_df_orc.printSchema()"
   ]
  },
  {
   "cell_type": "code",
   "execution_count": null,
   "id": "ca8572e9",
   "metadata": {},
   "outputs": [],
   "source": []
  },
  {
   "cell_type": "code",
   "execution_count": null,
   "id": "40b537de",
   "metadata": {},
   "outputs": [],
   "source": []
  },
  {
   "cell_type": "code",
   "execution_count": null,
   "id": "1e5b92da",
   "metadata": {},
   "outputs": [],
   "source": []
  },
  {
   "cell_type": "code",
   "execution_count": null,
   "id": "1561dcb3",
   "metadata": {},
   "outputs": [],
   "source": []
  }
 ],
 "metadata": {
  "kernelspec": {
   "display_name": "Pyspark 3",
   "language": "python",
   "name": "pyspark3"
  },
  "language_info": {
   "codemirror_mode": {
    "name": "ipython",
    "version": 3
   },
   "file_extension": ".py",
   "mimetype": "text/x-python",
   "name": "python",
   "nbconvert_exporter": "python",
   "pygments_lexer": "ipython3",
   "version": "3.6.12"
  }
 },
 "nbformat": 4,
 "nbformat_minor": 5
}
