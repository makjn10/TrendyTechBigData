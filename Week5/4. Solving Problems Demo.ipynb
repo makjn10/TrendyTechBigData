{
 "cells": [
  {
   "cell_type": "code",
   "execution_count": 1,
   "id": "211b383d",
   "metadata": {},
   "outputs": [],
   "source": [
    "from pyspark.sql import SparkSession\n",
    "import getpass\n",
    "username = getpass.getuser()\n",
    "spark = SparkSession. \\\n",
    "    builder. \\\n",
    "    config('spark.ui.port','0'). \\\n",
    "    config(\"spark.sql.warehouse.dir\", f\"/user/{username}/warehouse\"). \\\n",
    "    enableHiveSupport(). \\\n",
    "    master('yarn'). \\\n",
    "    getOrCreate()"
   ]
  },
  {
   "cell_type": "code",
   "execution_count": 2,
   "id": "6bb803e3",
   "metadata": {},
   "outputs": [],
   "source": [
    "orders_df = spark.read \\\n",
    ".format(\"csv\") \\\n",
    ".option(\"header\",\"true\") \\\n",
    ".option(\"inferSchema\", \"true\") \\\n",
    ".load(\"/user/itv019463/TrendyTechBigData/Week5/data/ordersWithHeader.csv\")"
   ]
  },
  {
   "cell_type": "code",
   "execution_count": 3,
   "id": "59894011",
   "metadata": {},
   "outputs": [
    {
     "name": "stdout",
     "output_type": "stream",
     "text": [
      "+--------+--------------------+-----------+---------------+\n",
      "|order_id|          order_date|customer_id|   order_status|\n",
      "+--------+--------------------+-----------+---------------+\n",
      "|       1|2013-07-25 00:00:...|      11599|         CLOSED|\n",
      "|       2|2013-07-25 00:00:...|        256|PENDING_PAYMENT|\n",
      "|       3|2013-07-25 00:00:...|      12111|       COMPLETE|\n",
      "|       4|2013-07-25 00:00:...|       8827|         CLOSED|\n",
      "|       5|2013-07-25 00:00:...|      11318|       COMPLETE|\n",
      "+--------+--------------------+-----------+---------------+\n",
      "only showing top 5 rows\n",
      "\n"
     ]
    }
   ],
   "source": [
    "orders_df.show(5)"
   ]
  },
  {
   "cell_type": "code",
   "execution_count": 4,
   "id": "67f8dea2",
   "metadata": {},
   "outputs": [
    {
     "name": "stdout",
     "output_type": "stream",
     "text": [
      "root\n",
      " |-- order_id: integer (nullable = true)\n",
      " |-- order_date: string (nullable = true)\n",
      " |-- customer_id: integer (nullable = true)\n",
      " |-- order_status: string (nullable = true)\n",
      "\n"
     ]
    }
   ],
   "source": [
    "orders_df.printSchema()"
   ]
  },
  {
   "cell_type": "code",
   "execution_count": 5,
   "id": "f76f0c98",
   "metadata": {},
   "outputs": [],
   "source": [
    "orders_df.createOrReplaceTempView(\"orders\")"
   ]
  },
  {
   "cell_type": "markdown",
   "id": "2f856141",
   "metadata": {},
   "source": [
    "# Higher Level API's Demo"
   ]
  },
  {
   "cell_type": "markdown",
   "id": "4443ed2a",
   "metadata": {},
   "source": [
    "##### 1. Top 15 customers who placed the most number of orders"
   ]
  },
  {
   "cell_type": "code",
   "execution_count": 6,
   "id": "205cd0aa",
   "metadata": {},
   "outputs": [],
   "source": [
    "result = orders_df.groupBy(\"customer_id\").count().sort(\"count\", ascending = False).limit(15)"
   ]
  },
  {
   "cell_type": "code",
   "execution_count": 7,
   "id": "af2ebca4",
   "metadata": {},
   "outputs": [
    {
     "name": "stdout",
     "output_type": "stream",
     "text": [
      "+-----------+-----+\n",
      "|customer_id|count|\n",
      "+-----------+-----+\n",
      "|       5897|   16|\n",
      "|      12431|   16|\n",
      "|        569|   16|\n",
      "|       6316|   16|\n",
      "|      12284|   15|\n",
      "|       4320|   15|\n",
      "|       5624|   15|\n",
      "|       5283|   15|\n",
      "|        221|   15|\n",
      "|       5654|   15|\n",
      "|       6248|   14|\n",
      "|       3708|   14|\n",
      "|       1011|   14|\n",
      "|       8652|   14|\n",
      "|       4517|   14|\n",
      "+-----------+-----+\n",
      "\n"
     ]
    }
   ],
   "source": [
    "result.show()"
   ]
  },
  {
   "cell_type": "code",
   "execution_count": null,
   "id": "4e130df0",
   "metadata": {},
   "outputs": [],
   "source": []
  },
  {
   "cell_type": "code",
   "execution_count": 8,
   "id": "590cf078",
   "metadata": {},
   "outputs": [],
   "source": [
    "df = spark.sql(\"select customer_id, count(*) as num_orders from orders group by customer_id order by count(*) desc limit 15\")"
   ]
  },
  {
   "cell_type": "code",
   "execution_count": 9,
   "id": "13374811",
   "metadata": {},
   "outputs": [
    {
     "name": "stdout",
     "output_type": "stream",
     "text": [
      "+-----------+----------+\n",
      "|customer_id|num_orders|\n",
      "+-----------+----------+\n",
      "|       5897|        16|\n",
      "|      12431|        16|\n",
      "|        569|        16|\n",
      "|       6316|        16|\n",
      "|      12284|        15|\n",
      "|       4320|        15|\n",
      "|       5624|        15|\n",
      "|       5283|        15|\n",
      "|        221|        15|\n",
      "|       5654|        15|\n",
      "|       6248|        14|\n",
      "|       3708|        14|\n",
      "|       1011|        14|\n",
      "|       8652|        14|\n",
      "|       4517|        14|\n",
      "+-----------+----------+\n",
      "\n"
     ]
    }
   ],
   "source": [
    "df.show()"
   ]
  },
  {
   "cell_type": "markdown",
   "id": "0fd80a9b",
   "metadata": {},
   "source": [
    "##### 2. No. of orders under each order status"
   ]
  },
  {
   "cell_type": "code",
   "execution_count": 10,
   "id": "2f8b0608",
   "metadata": {},
   "outputs": [],
   "source": [
    "result = orders_df.groupBy(\"order_status\").count()"
   ]
  },
  {
   "cell_type": "code",
   "execution_count": 11,
   "id": "80b7d90d",
   "metadata": {},
   "outputs": [
    {
     "name": "stdout",
     "output_type": "stream",
     "text": [
      "+---------------+-----+\n",
      "|   order_status|count|\n",
      "+---------------+-----+\n",
      "|PENDING_PAYMENT|15030|\n",
      "|       COMPLETE|22899|\n",
      "|        ON_HOLD| 3798|\n",
      "| PAYMENT_REVIEW|  729|\n",
      "|     PROCESSING| 8275|\n",
      "|         CLOSED| 7556|\n",
      "|SUSPECTED_FRAUD| 1558|\n",
      "|        PENDING| 7610|\n",
      "|       CANCELED| 1428|\n",
      "+---------------+-----+\n",
      "\n"
     ]
    }
   ],
   "source": [
    "result.show()"
   ]
  },
  {
   "cell_type": "code",
   "execution_count": null,
   "id": "201d60ce",
   "metadata": {},
   "outputs": [],
   "source": []
  },
  {
   "cell_type": "code",
   "execution_count": 12,
   "id": "2d1172a1",
   "metadata": {},
   "outputs": [],
   "source": [
    "df = spark.sql(\"select order_status, count(*) as num_orders from orders group by order_status\")"
   ]
  },
  {
   "cell_type": "code",
   "execution_count": 13,
   "id": "221533b9",
   "metadata": {},
   "outputs": [
    {
     "name": "stdout",
     "output_type": "stream",
     "text": [
      "+---------------+----------+\n",
      "|   order_status|num_orders|\n",
      "+---------------+----------+\n",
      "|PENDING_PAYMENT|     15030|\n",
      "|       COMPLETE|     22899|\n",
      "|        ON_HOLD|      3798|\n",
      "| PAYMENT_REVIEW|       729|\n",
      "|     PROCESSING|      8275|\n",
      "|         CLOSED|      7556|\n",
      "|SUSPECTED_FRAUD|      1558|\n",
      "|        PENDING|      7610|\n",
      "|       CANCELED|      1428|\n",
      "+---------------+----------+\n",
      "\n"
     ]
    }
   ],
   "source": [
    "df.show()"
   ]
  },
  {
   "cell_type": "markdown",
   "id": "7c4e7e53",
   "metadata": {},
   "source": [
    "##### 3. No. of active customers (who placed atleast one order)"
   ]
  },
  {
   "cell_type": "code",
   "execution_count": 14,
   "id": "2d2f0287",
   "metadata": {},
   "outputs": [],
   "source": [
    "result = orders_df.select(\"customer_id\").distinct().count()"
   ]
  },
  {
   "cell_type": "code",
   "execution_count": 15,
   "id": "c0a28b28",
   "metadata": {},
   "outputs": [
    {
     "data": {
      "text/plain": [
       "12405"
      ]
     },
     "execution_count": 15,
     "metadata": {},
     "output_type": "execute_result"
    }
   ],
   "source": [
    "result"
   ]
  },
  {
   "cell_type": "code",
   "execution_count": 18,
   "id": "a6c69893",
   "metadata": {},
   "outputs": [],
   "source": [
    "df = spark.sql(\"select count(distinct customer_id) as count_cust from orders\")"
   ]
  },
  {
   "cell_type": "code",
   "execution_count": 19,
   "id": "ec6f9929",
   "metadata": {},
   "outputs": [
    {
     "name": "stdout",
     "output_type": "stream",
     "text": [
      "+----------+\n",
      "|count_cust|\n",
      "+----------+\n",
      "|     12405|\n",
      "+----------+\n",
      "\n"
     ]
    }
   ],
   "source": [
    "df.show()"
   ]
  },
  {
   "cell_type": "markdown",
   "id": "3d4c1bf6",
   "metadata": {},
   "source": [
    "##### 4. Customers with most most number of CLOSED orders"
   ]
  },
  {
   "cell_type": "code",
   "execution_count": 20,
   "id": "9903709d",
   "metadata": {},
   "outputs": [],
   "source": [
    "result = orders_df.select(\"customer_id\", \"order_status\").where(\"order_status = 'CLOSED'\").groupBy(\"customer_id\").count().sort(\"count\", ascending = False).limit(10)"
   ]
  },
  {
   "cell_type": "code",
   "execution_count": 21,
   "id": "5514bc0b",
   "metadata": {},
   "outputs": [
    {
     "name": "stdout",
     "output_type": "stream",
     "text": [
      "+-----------+-----+\n",
      "|customer_id|count|\n",
      "+-----------+-----+\n",
      "|       1833|    6|\n",
      "|       1363|    5|\n",
      "|       1687|    5|\n",
      "|       5493|    5|\n",
      "|       2403|    4|\n",
      "|       7850|    4|\n",
      "|      10018|    4|\n",
      "|       2236|    4|\n",
      "|       2768|    4|\n",
      "|      10111|    4|\n",
      "+-----------+-----+\n",
      "\n"
     ]
    }
   ],
   "source": [
    "result.show()"
   ]
  },
  {
   "cell_type": "code",
   "execution_count": null,
   "id": "2ee70644",
   "metadata": {},
   "outputs": [],
   "source": []
  },
  {
   "cell_type": "code",
   "execution_count": 24,
   "id": "70df5833",
   "metadata": {},
   "outputs": [],
   "source": [
    "df = spark.sql(\"select customer_id, count(*) from orders where order_status = 'CLOSED' group by customer_id order by count(*) desc limit 10\")"
   ]
  },
  {
   "cell_type": "code",
   "execution_count": 25,
   "id": "d134563a",
   "metadata": {},
   "outputs": [
    {
     "name": "stdout",
     "output_type": "stream",
     "text": [
      "+-----------+--------+\n",
      "|customer_id|count(1)|\n",
      "+-----------+--------+\n",
      "|       1833|       6|\n",
      "|       1363|       5|\n",
      "|       1687|       5|\n",
      "|       5493|       5|\n",
      "|       2403|       4|\n",
      "|       7850|       4|\n",
      "|      10018|       4|\n",
      "|       2236|       4|\n",
      "|       2768|       4|\n",
      "|      10111|       4|\n",
      "+-----------+--------+\n",
      "\n"
     ]
    }
   ],
   "source": [
    "df.show()"
   ]
  },
  {
   "cell_type": "code",
   "execution_count": null,
   "id": "6a0d7f3d",
   "metadata": {},
   "outputs": [],
   "source": []
  }
 ],
 "metadata": {
  "kernelspec": {
   "display_name": "Pyspark 3",
   "language": "python",
   "name": "pyspark3"
  },
  "language_info": {
   "codemirror_mode": {
    "name": "ipython",
    "version": 3
   },
   "file_extension": ".py",
   "mimetype": "text/x-python",
   "name": "python",
   "nbconvert_exporter": "python",
   "pygments_lexer": "ipython3",
   "version": "3.6.12"
  }
 },
 "nbformat": 4,
 "nbformat_minor": 5
}
