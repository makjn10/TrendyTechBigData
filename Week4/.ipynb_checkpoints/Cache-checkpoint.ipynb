{
 "cells": [
  {
   "cell_type": "code",
   "execution_count": 1,
   "id": "d9105588",
   "metadata": {},
   "outputs": [],
   "source": [
    "from pyspark.sql import SparkSession\n",
    "import getpass\n",
    "\n",
    "username = getpass.getuser()\n",
    "\n",
    "spark = SparkSession. \\\n",
    "    builder. \\\n",
    "    config('spark.ui.port','0'). \\\n",
    "    config(\"spark.sql.warehouse.dir\", f\"/user/{username}/warehouse\"). \\\n",
    "    enableHiveSupport(). \\\n",
    "    master('yarn'). \\\n",
    "    getOrCreate()"
   ]
  },
  {
   "cell_type": "code",
   "execution_count": 2,
   "id": "ae658094",
   "metadata": {},
   "outputs": [],
   "source": [
    "orders_rdd = spark.sparkContext.textFile(\"/user/itv019463/TrendyTechBigData/Week4/data/orders_1gb.csv\")"
   ]
  },
  {
   "cell_type": "code",
   "execution_count": 3,
   "id": "b6a8d6dd",
   "metadata": {},
   "outputs": [],
   "source": [
    "# Remove PENDING_PAYMENT rows"
   ]
  },
  {
   "cell_type": "code",
   "execution_count": 4,
   "id": "1cf8907a",
   "metadata": {},
   "outputs": [],
   "source": [
    "orders_filtered = orders_rdd.filter(lambda x: x.split(\",\")[3] != \"PENDING_PAYMENT\")"
   ]
  },
  {
   "cell_type": "code",
   "execution_count": 5,
   "id": "e85fe218",
   "metadata": {},
   "outputs": [],
   "source": [
    "# A map transformation"
   ]
  },
  {
   "cell_type": "code",
   "execution_count": 6,
   "id": "5b42f36e",
   "metadata": {},
   "outputs": [],
   "source": [
    "orders_mapped = orders_filtered.map(lambda x: (x.split(\",\")[2], 1))"
   ]
  },
  {
   "cell_type": "code",
   "execution_count": 7,
   "id": "95c383e0",
   "metadata": {},
   "outputs": [],
   "source": [
    "orders_reduced = orders_mapped.reduceByKey(lambda x, y: x + y)"
   ]
  },
  {
   "cell_type": "code",
   "execution_count": 8,
   "id": "388b7bc6",
   "metadata": {},
   "outputs": [],
   "source": [
    "result = orders_reduced.filter(lambda x: int(x[0]) < 500) "
   ]
  },
  {
   "cell_type": "code",
   "execution_count": 9,
   "id": "5ec016e3",
   "metadata": {},
   "outputs": [
    {
     "data": {
      "text/plain": [
       "PythonRDD[6] at RDD at PythonRDD.scala:53"
      ]
     },
     "execution_count": 9,
     "metadata": {},
     "output_type": "execute_result"
    }
   ],
   "source": [
    "result.cache()"
   ]
  },
  {
   "cell_type": "code",
   "execution_count": 11,
   "id": "6fa50479",
   "metadata": {},
   "outputs": [],
   "source": [
    "res1 = result.collect()"
   ]
  },
  {
   "cell_type": "code",
   "execution_count": 12,
   "id": "a2f1c062",
   "metadata": {},
   "outputs": [],
   "source": [
    "res2 = result.collect()"
   ]
  },
  {
   "cell_type": "code",
   "execution_count": 13,
   "id": "192cf998",
   "metadata": {},
   "outputs": [],
   "source": [
    "spark.stop()"
   ]
  }
 ],
 "metadata": {
  "kernelspec": {
   "display_name": "Pyspark 3",
   "language": "python",
   "name": "pyspark3"
  },
  "language_info": {
   "codemirror_mode": {
    "name": "ipython",
    "version": 3
   },
   "file_extension": ".py",
   "mimetype": "text/x-python",
   "name": "python",
   "nbconvert_exporter": "python",
   "pygments_lexer": "ipython3",
   "version": "3.6.12"
  }
 },
 "nbformat": 4,
 "nbformat_minor": 5
}
