{
 "cells": [
  {
   "cell_type": "code",
   "execution_count": 1,
   "id": "4d7faab6",
   "metadata": {},
   "outputs": [],
   "source": [
    "from pyspark.sql import SparkSession\n",
    "import getpass\n",
    "\n",
    "username = getpass.getuser()\n",
    "\n",
    "spark = SparkSession. \\\n",
    "    builder. \\\n",
    "    config('spark.ui.port','0'). \\\n",
    "    config(\"spark.sql.warehouse.dir\", f\"/user/{username}/warehouse\"). \\\n",
    "    enableHiveSupport(). \\\n",
    "    master('yarn'). \\\n",
    "    getOrCreate()"
   ]
  },
  {
   "cell_type": "code",
   "execution_count": 2,
   "id": "9d70f095",
   "metadata": {},
   "outputs": [],
   "source": [
    "orders_rdd = spark.sparkContext.textFile(\"/user/itv019463/data/orders_1gb.csv\")"
   ]
  },
  {
   "cell_type": "code",
   "execution_count": 3,
   "id": "3be6ffd2",
   "metadata": {},
   "outputs": [],
   "source": [
    "# Remove PENDING_PAYMENT rows"
   ]
  },
  {
   "cell_type": "code",
   "execution_count": 4,
   "id": "8cd61473",
   "metadata": {},
   "outputs": [],
   "source": [
    "orders_filtered = orders_rdd.filter(lambda x: x.split(\",\")[3] != \"PENDING_PAYMENT\")"
   ]
  },
  {
   "cell_type": "code",
   "execution_count": 5,
   "id": "dfa78324",
   "metadata": {},
   "outputs": [],
   "source": [
    "# A map transformation"
   ]
  },
  {
   "cell_type": "code",
   "execution_count": 6,
   "id": "5cf01015",
   "metadata": {},
   "outputs": [],
   "source": [
    "orders_mapped = orders_filtered.map(lambda x: (x.split(\",\")[2], 1))"
   ]
  },
  {
   "cell_type": "code",
   "execution_count": 7,
   "id": "09fc710f",
   "metadata": {},
   "outputs": [],
   "source": [
    "orders_reduced = orders_mapped.reduceByKey(lambda x, y: x + y)"
   ]
  },
  {
   "cell_type": "code",
   "execution_count": 8,
   "id": "b021cd77",
   "metadata": {},
   "outputs": [],
   "source": [
    "result = orders_reduced.filter(lambda x: int(x[0]) < 500) "
   ]
  },
  {
   "cell_type": "code",
   "execution_count": 9,
   "id": "76638c4b",
   "metadata": {},
   "outputs": [
    {
     "data": {
      "text/plain": [
       "PythonRDD[6] at RDD at PythonRDD.scala:53"
      ]
     },
     "execution_count": 9,
     "metadata": {},
     "output_type": "execute_result"
    }
   ],
   "source": [
    "result.cache()"
   ]
  },
  {
   "cell_type": "code",
   "execution_count": 10,
   "id": "69a4c477",
   "metadata": {},
   "outputs": [],
   "source": [
    "res1 = result.collect()"
   ]
  },
  {
   "cell_type": "code",
   "execution_count": 11,
   "id": "9ca5dfd0",
   "metadata": {},
   "outputs": [],
   "source": [
    "res2 = result.collect()"
   ]
  },
  {
   "cell_type": "code",
   "execution_count": 12,
   "id": "ea1b7aaf",
   "metadata": {},
   "outputs": [],
   "source": [
    "spark.stop()"
   ]
  },
  {
   "cell_type": "code",
   "execution_count": null,
   "id": "c2c19129",
   "metadata": {},
   "outputs": [],
   "source": []
  },
  {
   "cell_type": "code",
   "execution_count": null,
   "id": "8c8097d3",
   "metadata": {},
   "outputs": [],
   "source": []
  }
 ],
 "metadata": {
  "kernelspec": {
   "display_name": "Pyspark 3",
   "language": "python",
   "name": "pyspark3"
  },
  "language_info": {
   "codemirror_mode": {
    "name": "ipython",
    "version": 3
   },
   "file_extension": ".py",
   "mimetype": "text/x-python",
   "name": "python",
   "nbconvert_exporter": "python",
   "pygments_lexer": "ipython3",
   "version": "3.6.12"
  }
 },
 "nbformat": 4,
 "nbformat_minor": 5
}
