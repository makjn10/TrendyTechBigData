{
 "cells": [
  {
   "cell_type": "code",
   "execution_count": 1,
   "id": "8a3f25a8",
   "metadata": {},
   "outputs": [],
   "source": [
    "from pyspark.sql import SparkSession\n",
    "import getpass\n",
    "\n",
    "username = getpass.getuser()\n",
    "\n",
    "spark = SparkSession. \\\n",
    "    builder. \\\n",
    "    config('spark.ui.port','0'). \\\n",
    "    config(\"spark.sql.warehouse.dir\", f\"/user/{username}/warehouse\"). \\\n",
    "    enableHiveSupport(). \\\n",
    "    master('yarn'). \\\n",
    "    getOrCreate()"
   ]
  },
  {
   "cell_type": "code",
   "execution_count": 2,
   "id": "197ddc8d",
   "metadata": {},
   "outputs": [],
   "source": [
    "# Question 1"
   ]
  },
  {
   "cell_type": "code",
   "execution_count": 3,
   "id": "f6f43267",
   "metadata": {},
   "outputs": [],
   "source": [
    "orders_rdd = spark.sparkContext.textFile(\"/public/trendytech/retail_db/orders/*\")"
   ]
  },
  {
   "cell_type": "code",
   "execution_count": 4,
   "id": "b6e99528",
   "metadata": {},
   "outputs": [],
   "source": [
    "order_items_rdd = spark.sparkContext.textFile(\"/public/trendytech/retail_db/order_items/*\")"
   ]
  },
  {
   "cell_type": "code",
   "execution_count": 5,
   "id": "c4a6b7dc",
   "metadata": {},
   "outputs": [],
   "source": [
    "rdd1 = orders_rdd.map(lambda x: (int(x.split(\",\")[0]), int(x.split(\",\")[2])))"
   ]
  },
  {
   "cell_type": "code",
   "execution_count": 6,
   "id": "76eb1074",
   "metadata": {},
   "outputs": [],
   "source": [
    "rdd_1 = order_items_rdd.map(lambda x: (int(x.split(\",\")[1]), float(x.split(\",\")[4])))"
   ]
  },
  {
   "cell_type": "code",
   "execution_count": 7,
   "id": "b30cd9a5",
   "metadata": {},
   "outputs": [],
   "source": [
    "rdd_joined = rdd_1.join(rdd1)"
   ]
  },
  {
   "cell_type": "code",
   "execution_count": 8,
   "id": "465168c1",
   "metadata": {},
   "outputs": [
    {
     "data": {
      "text/plain": [
       "[(4, (49.98, 8827)),\n",
       " (4, (299.95, 8827)),\n",
       " (4, (150.0, 8827)),\n",
       " (4, (199.92, 8827)),\n",
       " (8, (179.97, 2911))]"
      ]
     },
     "execution_count": 8,
     "metadata": {},
     "output_type": "execute_result"
    }
   ],
   "source": [
    "rdd_joined.take(5)"
   ]
  },
  {
   "cell_type": "code",
   "execution_count": 9,
   "id": "42c1a4f8",
   "metadata": {},
   "outputs": [],
   "source": [
    "rdd_mapped = rdd_joined.map(lambda x: (x[1][1], x[1][0]))"
   ]
  },
  {
   "cell_type": "code",
   "execution_count": 10,
   "id": "3deea196",
   "metadata": {},
   "outputs": [],
   "source": [
    "rdd_reduced = rdd_mapped.reduceByKey(lambda x, y: x + y)"
   ]
  },
  {
   "cell_type": "code",
   "execution_count": 11,
   "id": "33c4e9f9",
   "metadata": {},
   "outputs": [],
   "source": [
    "rdd_sorted = rdd_reduced.sortBy(lambda x: x[1], ascending = False)"
   ]
  },
  {
   "cell_type": "code",
   "execution_count": 12,
   "id": "6ca59ee9",
   "metadata": {},
   "outputs": [
    {
     "data": {
      "text/plain": [
       "[(791, 10524.169999999998),\n",
       " (9371, 9299.029999999999),\n",
       " (8766, 9296.14),\n",
       " (1657, 9223.710000000001),\n",
       " (2641, 9130.92),\n",
       " (1288, 9019.11),\n",
       " (3710, 9019.099999999999),\n",
       " (4249, 8918.85),\n",
       " (5654, 8904.95),\n",
       " (5624, 8761.98)]"
      ]
     },
     "execution_count": 12,
     "metadata": {},
     "output_type": "execute_result"
    }
   ],
   "source": [
    "rdd_sorted.take(10)"
   ]
  },
  {
   "cell_type": "code",
   "execution_count": null,
   "id": "5d593e3e",
   "metadata": {},
   "outputs": [],
   "source": []
  },
  {
   "cell_type": "code",
   "execution_count": null,
   "id": "f2fc1739",
   "metadata": {},
   "outputs": [],
   "source": []
  },
  {
   "cell_type": "code",
   "execution_count": 13,
   "id": "eb8fc739",
   "metadata": {},
   "outputs": [],
   "source": [
    "rdd2 = order_items_rdd.map(lambda x: (x.split(\",\")[2], int(x.split(\",\")[3])))"
   ]
  },
  {
   "cell_type": "code",
   "execution_count": 14,
   "id": "4619a5a8",
   "metadata": {},
   "outputs": [
    {
     "data": {
      "text/plain": [
       "[('365', 73698),\n",
       " ('502', 62956),\n",
       " ('1014', 57803),\n",
       " ('191', 36680),\n",
       " ('627', 31735),\n",
       " ('403', 22246),\n",
       " ('1004', 17325),\n",
       " ('1073', 15500),\n",
       " ('957', 13729),\n",
       " ('977', 998)]"
      ]
     },
     "execution_count": 14,
     "metadata": {},
     "output_type": "execute_result"
    }
   ],
   "source": [
    "rdd2.reduceByKey(lambda x, y: x + y).sortBy(lambda x: x[1], ascending = False).take(10)"
   ]
  },
  {
   "cell_type": "code",
   "execution_count": null,
   "id": "dcea5bbb",
   "metadata": {},
   "outputs": [],
   "source": []
  },
  {
   "cell_type": "code",
   "execution_count": null,
   "id": "d92fb9d4",
   "metadata": {},
   "outputs": [],
   "source": []
  },
  {
   "cell_type": "code",
   "execution_count": 15,
   "id": "f286d5c8",
   "metadata": {},
   "outputs": [],
   "source": [
    "customers_rdd = spark.sparkContext.textFile(\"/public/trendytech/retail_db/customers/*\")"
   ]
  },
  {
   "cell_type": "code",
   "execution_count": 16,
   "id": "239fda4d",
   "metadata": {},
   "outputs": [
    {
     "data": {
      "text/plain": [
       "4584"
      ]
     },
     "execution_count": 16,
     "metadata": {},
     "output_type": "execute_result"
    }
   ],
   "source": [
    "customers_rdd.filter(lambda x: x.split(\",\")[6].lower() == \"caguas\").count()"
   ]
  },
  {
   "cell_type": "code",
   "execution_count": null,
   "id": "9c526806",
   "metadata": {},
   "outputs": [],
   "source": []
  },
  {
   "cell_type": "code",
   "execution_count": null,
   "id": "0dfb8db9",
   "metadata": {},
   "outputs": [],
   "source": []
  },
  {
   "cell_type": "code",
   "execution_count": 17,
   "id": "f3000cc6",
   "metadata": {},
   "outputs": [
    {
     "data": {
      "text/plain": [
       "[('PR', 4771), ('CA', 2012), ('NY', 775)]"
      ]
     },
     "execution_count": 17,
     "metadata": {},
     "output_type": "execute_result"
    }
   ],
   "source": [
    "customers_rdd.map(lambda x: (x.split(\",\")[7], 1)).reduceByKey(lambda x, y: x+ y).sortBy(lambda x: x[1], ascending = False).take(3)"
   ]
  },
  {
   "cell_type": "code",
   "execution_count": null,
   "id": "22fd5270",
   "metadata": {},
   "outputs": [],
   "source": []
  },
  {
   "cell_type": "code",
   "execution_count": null,
   "id": "9919327d",
   "metadata": {},
   "outputs": [],
   "source": []
  },
  {
   "cell_type": "code",
   "execution_count": 18,
   "id": "28d94aa5",
   "metadata": {},
   "outputs": [
    {
     "data": {
      "text/plain": [
       "11148"
      ]
     },
     "execution_count": 18,
     "metadata": {},
     "output_type": "execute_result"
    }
   ],
   "source": [
    "rdd_sorted.filter(lambda x: float(x[1]) > 1000).count()"
   ]
  },
  {
   "cell_type": "code",
   "execution_count": null,
   "id": "648d1ced",
   "metadata": {},
   "outputs": [],
   "source": []
  },
  {
   "cell_type": "code",
   "execution_count": null,
   "id": "f8bd3d0c",
   "metadata": {},
   "outputs": [],
   "source": []
  },
  {
   "cell_type": "code",
   "execution_count": 19,
   "id": "f482f975",
   "metadata": {},
   "outputs": [],
   "source": [
    "rdd6 = customers_rdd.map(lambda x: (x.split(\",\")[0], x.split(\",\")[7]))"
   ]
  },
  {
   "cell_type": "code",
   "execution_count": 20,
   "id": "6fc59c0a",
   "metadata": {},
   "outputs": [],
   "source": [
    "rdd_6 = orders_rdd.map(lambda x: (x.split(\",\")[2], x.split(\",\")[3]))"
   ]
  },
  {
   "cell_type": "code",
   "execution_count": 21,
   "id": "d110b9bc",
   "metadata": {},
   "outputs": [],
   "source": [
    "joined_rdd_6 = rdd6.join(rdd_6)"
   ]
  },
  {
   "cell_type": "code",
   "execution_count": 22,
   "id": "ac84b545",
   "metadata": {},
   "outputs": [
    {
     "data": {
      "text/plain": [
       "[('6241', ('IL', 'COMPLETE')),\n",
       " ('6241', ('IL', 'CLOSED')),\n",
       " ('6241', ('IL', 'ON_HOLD')),\n",
       " ('6243', ('IL', 'ON_HOLD')),\n",
       " ('6243', ('IL', 'PENDING')),\n",
       " ('6243', ('IL', 'PENDING_PAYMENT')),\n",
       " ('6245', ('PR', 'COMPLETE')),\n",
       " ('6245', ('PR', 'COMPLETE')),\n",
       " ('6245', ('PR', 'PENDING')),\n",
       " ('6252', ('TX', 'CLOSED'))]"
      ]
     },
     "execution_count": 22,
     "metadata": {},
     "output_type": "execute_result"
    }
   ],
   "source": [
    "joined_rdd_6.take(10)"
   ]
  },
  {
   "cell_type": "code",
   "execution_count": 23,
   "id": "ee517fa8",
   "metadata": {},
   "outputs": [
    {
     "data": {
      "text/plain": [
       "[('PR', 2891), ('CA', 1232), ('NY', 450), ('TX', 403), ('IL', 313)]"
      ]
     },
     "execution_count": 23,
     "metadata": {},
     "output_type": "execute_result"
    }
   ],
   "source": [
    "joined_rdd_6.map(lambda x: x[1]).filter(lambda x: x[1] == \"CLOSED\").map(lambda x: (x[0], 1)).reduceByKey(lambda x, y: x + y).sortBy(lambda x: x[1], False).take(5)"
   ]
  },
  {
   "cell_type": "code",
   "execution_count": null,
   "id": "1a6d8477",
   "metadata": {},
   "outputs": [],
   "source": []
  },
  {
   "cell_type": "code",
   "execution_count": null,
   "id": "3956a3f4",
   "metadata": {},
   "outputs": [],
   "source": []
  },
  {
   "cell_type": "code",
   "execution_count": 24,
   "id": "1c3a4e9b",
   "metadata": {},
   "outputs": [
    {
     "data": {
      "text/plain": [
       "12405"
      ]
     },
     "execution_count": 24,
     "metadata": {},
     "output_type": "execute_result"
    }
   ],
   "source": [
    "orders_rdd.map(lambda x: x.split(\",\")[2]).distinct().count()"
   ]
  },
  {
   "cell_type": "code",
   "execution_count": null,
   "id": "7ee71d0a",
   "metadata": {},
   "outputs": [],
   "source": []
  },
  {
   "cell_type": "code",
   "execution_count": 25,
   "id": "f9d800ec",
   "metadata": {},
   "outputs": [],
   "source": [
    "rdd8 = orders_rdd.map(lambda x: (x.split(\",\")[2], x.split(\",\")[0]))"
   ]
  },
  {
   "cell_type": "code",
   "execution_count": 26,
   "id": "ac2dbfe3",
   "metadata": {},
   "outputs": [],
   "source": [
    "rdd_8 = customers_rdd.map(lambda x: (x.split(\",\")[0], x.split(\",\")[7]))"
   ]
  },
  {
   "cell_type": "code",
   "execution_count": 27,
   "id": "109b000b",
   "metadata": {},
   "outputs": [],
   "source": [
    "rdd8_joined = rdd8.join(rdd_8)"
   ]
  },
  {
   "cell_type": "code",
   "execution_count": 28,
   "id": "65287fde",
   "metadata": {},
   "outputs": [
    {
     "data": {
      "text/plain": [
       "[('256', ('2', 'IL')),\n",
       " ('256', ('9467', 'IL')),\n",
       " ('256', ('13037', 'IL')),\n",
       " ('256', ('23971', 'IL')),\n",
       " ('256', ('24394', 'IL'))]"
      ]
     },
     "execution_count": 28,
     "metadata": {},
     "output_type": "execute_result"
    }
   ],
   "source": [
    "rdd8_joined.take(5)"
   ]
  },
  {
   "cell_type": "code",
   "execution_count": 29,
   "id": "5a2bc96b",
   "metadata": {},
   "outputs": [],
   "source": [
    "rdd8_mapped = rdd8_joined.map(lambda x: x[1])"
   ]
  },
  {
   "cell_type": "code",
   "execution_count": 30,
   "id": "54a768a7",
   "metadata": {},
   "outputs": [],
   "source": [
    "rdd__8 = order_items_rdd.map(lambda x: (x.split(\",\")[1], float(x.split(\",\")[4])))"
   ]
  },
  {
   "cell_type": "code",
   "execution_count": 31,
   "id": "910c82b2",
   "metadata": {},
   "outputs": [],
   "source": [
    "rdd__8_joined = rdd8_mapped.join(rdd__8)"
   ]
  },
  {
   "cell_type": "code",
   "execution_count": 32,
   "id": "3cb38bc1",
   "metadata": {},
   "outputs": [
    {
     "data": {
      "text/plain": [
       "[('4', ('TX', 49.98)),\n",
       " ('4', ('TX', 299.95)),\n",
       " ('4', ('TX', 150.0)),\n",
       " ('4', ('TX', 199.92)),\n",
       " ('16', ('PR', 119.98))]"
      ]
     },
     "execution_count": 32,
     "metadata": {},
     "output_type": "execute_result"
    }
   ],
   "source": [
    "rdd__8_joined.take(5)"
   ]
  },
  {
   "cell_type": "code",
   "execution_count": 33,
   "id": "f8995fdc",
   "metadata": {},
   "outputs": [
    {
     "data": {
      "text/plain": [
       "[('PR', 13208867.689999282),\n",
       " ('CA', 5542722.999999759),\n",
       " ('NY', 2152706.739999986),\n",
       " ('TX', 1731407.4899999993),\n",
       " ('IL', 1457225.8300000036),\n",
       " ('FL', 1048609.7700000026),\n",
       " ('OH', 773804.1100000018),\n",
       " ('MI', 730078.9700000015),\n",
       " ('PA', 724375.9300000014),\n",
       " ('NJ', 606550.9900000012),\n",
       " ('AZ', 566459.2900000012),\n",
       " ('GA', 467765.18000000087),\n",
       " ('MD', 456100.4200000006),\n",
       " ('NC', 378877.6400000001),\n",
       " ('CO', 358310.6000000003),\n",
       " ('VA', 344824.35000000015),\n",
       " ('OR', 315239.51000000024),\n",
       " ('MA', 306025.7300000003),\n",
       " ('TN', 297614.4100000002),\n",
       " ('NV', 276364.9700000002),\n",
       " ('MO', 260417.28000000017),\n",
       " ('HI', 238208.1100000001),\n",
       " ('CT', 211264.2400000001),\n",
       " ('UT', 184356.83000000007),\n",
       " ('LA', 182954.7400000001),\n",
       " ('NM', 181366.65000000002),\n",
       " ('WA', 172982.45000000007),\n",
       " ('WI', 164058.32),\n",
       " ('MN', 133183.97),\n",
       " ('SC', 129411.79000000001),\n",
       " ('IN', 110015.13999999996),\n",
       " ('DC', 108841.47999999995),\n",
       " ('KY', 94894.74999999996),\n",
       " ('KS', 85865.06999999995),\n",
       " ('DE', 48873.249999999985),\n",
       " ('RI', 47439.34999999998),\n",
       " ('OK', 43493.319999999985),\n",
       " ('WV', 43452.669999999984),\n",
       " ('ND', 41221.96999999999),\n",
       " ('ID', 31791.19999999999),\n",
       " ('AR', 29241.609999999993),\n",
       " ('MT', 16189.98),\n",
       " ('IA', 12761.74),\n",
       " ('AL', 6401.400000000001)]"
      ]
     },
     "execution_count": 33,
     "metadata": {},
     "output_type": "execute_result"
    }
   ],
   "source": [
    "rdd__8_joined.map(lambda x: x[1]).reduceByKey(lambda x, y: x + y).sortBy(lambda x: x[1], False).collect()"
   ]
  },
  {
   "cell_type": "code",
   "execution_count": null,
   "id": "41786437",
   "metadata": {},
   "outputs": [],
   "source": []
  },
  {
   "cell_type": "code",
   "execution_count": null,
   "id": "69263736",
   "metadata": {},
   "outputs": [],
   "source": []
  },
  {
   "cell_type": "code",
   "execution_count": 34,
   "id": "df4e46f9",
   "metadata": {},
   "outputs": [],
   "source": [
    "# Question 3"
   ]
  },
  {
   "cell_type": "code",
   "execution_count": 2,
   "id": "18965264",
   "metadata": {},
   "outputs": [],
   "source": [
    "stdent_reviews_rdd = spark.sparkContext.textFile(\"/public/trendytech/reviews/trendytech-student-reviews.csv\")"
   ]
  },
  {
   "cell_type": "code",
   "execution_count": 3,
   "id": "ab01ca76",
   "metadata": {},
   "outputs": [],
   "source": [
    "words_rdd = stdent_reviews_rdd.flatMap(lambda x: x.split(\" \")).map(lambda x: x.lower())"
   ]
  },
  {
   "cell_type": "code",
   "execution_count": 4,
   "id": "9538f329",
   "metadata": {},
   "outputs": [],
   "source": [
    "boring_words_rdd = spark.sparkContext.textFile(\"/user/itv019463/data/boringwords.txt\").map(lambda x: x.lower())"
   ]
  },
  {
   "cell_type": "code",
   "execution_count": 5,
   "id": "c8e2a63a",
   "metadata": {},
   "outputs": [],
   "source": [
    "subtracted_rdd = words_rdd.subtract(boring_words_rdd)"
   ]
  },
  {
   "cell_type": "code",
   "execution_count": 6,
   "id": "8c310526",
   "metadata": {},
   "outputs": [
    {
     "data": {
      "text/plain": [
       "[('data', 201),\n",
       " ('sumit', 109),\n",
       " ('trendytech', 67),\n",
       " ('', 64),\n",
       " ('data.', 34),\n",
       " ('course.', 33),\n",
       " (\"sir's\", 23),\n",
       " ('trendy', 14),\n",
       " (\"master's\", 13),\n",
       " ('course,', 13),\n",
       " ('domain.', 12),\n",
       " (\"trendytech's\", 12),\n",
       " ('sir.', 11),\n",
       " ('concepts.', 9),\n",
       " ('program.', 9),\n",
       " ('field.', 9),\n",
       " ('hands-on', 8),\n",
       " ('fresher', 8),\n",
       " ('amazing.', 8),\n",
       " ('career.', 7)]"
      ]
     },
     "execution_count": 6,
     "metadata": {},
     "output_type": "execute_result"
    }
   ],
   "source": [
    "subtracted_rdd.map(lambda x: (x, 1)).reduceByKey(lambda x, y: x+ y).sortBy(lambda x: x[1], False).take(20)"
   ]
  },
  {
   "cell_type": "code",
   "execution_count": null,
   "id": "48cdc24c",
   "metadata": {},
   "outputs": [],
   "source": []
  },
  {
   "cell_type": "code",
   "execution_count": 7,
   "id": "2c74b04b",
   "metadata": {},
   "outputs": [],
   "source": [
    "spark.stop()"
   ]
  },
  {
   "cell_type": "code",
   "execution_count": null,
   "id": "9f7eb417",
   "metadata": {},
   "outputs": [],
   "source": []
  }
 ],
 "metadata": {
  "kernelspec": {
   "display_name": "Pyspark 3",
   "language": "python",
   "name": "pyspark3"
  },
  "language_info": {
   "codemirror_mode": {
    "name": "ipython",
    "version": 3
   },
   "file_extension": ".py",
   "mimetype": "text/x-python",
   "name": "python",
   "nbconvert_exporter": "python",
   "pygments_lexer": "ipython3",
   "version": "3.6.12"
  }
 },
 "nbformat": 4,
 "nbformat_minor": 5
}
