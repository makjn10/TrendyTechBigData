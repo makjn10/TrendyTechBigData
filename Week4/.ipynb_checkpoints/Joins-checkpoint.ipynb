{
 "cells": [
  {
   "cell_type": "code",
   "execution_count": 1,
   "id": "a18f03b0",
   "metadata": {},
   "outputs": [],
   "source": [
    "from pyspark.sql import SparkSession\n",
    "import getpass\n",
    "\n",
    "username = getpass.getuser()\n",
    "\n",
    "spark = SparkSession. \\\n",
    "    builder. \\\n",
    "    config('spark.ui.port','0'). \\\n",
    "    config(\"spark.sql.warehouse.dir\", f\"/user/{username}/warehouse\"). \\\n",
    "    enableHiveSupport(). \\\n",
    "    master('yarn'). \\\n",
    "    getOrCreate()"
   ]
  },
  {
   "cell_type": "code",
   "execution_count": 2,
   "id": "f57eb97a",
   "metadata": {},
   "outputs": [
    {
     "data": {
      "text/html": [
       "\n",
       "            <div>\n",
       "                <p><b>SparkSession - hive</b></p>\n",
       "                \n",
       "        <div>\n",
       "            <p><b>SparkContext</b></p>\n",
       "\n",
       "            <p><a href=\"http://g01.itversity.com:43575\">Spark UI</a></p>\n",
       "\n",
       "            <dl>\n",
       "              <dt>Version</dt>\n",
       "                <dd><code>v3.1.2</code></dd>\n",
       "              <dt>Master</dt>\n",
       "                <dd><code>yarn</code></dd>\n",
       "              <dt>AppName</dt>\n",
       "                <dd><code>pyspark-shell</code></dd>\n",
       "            </dl>\n",
       "        </div>\n",
       "        \n",
       "            </div>\n",
       "        "
      ],
      "text/plain": [
       "<pyspark.sql.session.SparkSession at 0x7f3ec9510f98>"
      ]
     },
     "execution_count": 2,
     "metadata": {},
     "output_type": "execute_result"
    }
   ],
   "source": [
    "spark"
   ]
  },
  {
   "cell_type": "code",
   "execution_count": 3,
   "id": "833c8608",
   "metadata": {},
   "outputs": [],
   "source": [
    "orders_rdd = spark.sparkContext.textFile(\"/user/itv019463/data/orders_1gb.csv\")"
   ]
  },
  {
   "cell_type": "code",
   "execution_count": 4,
   "id": "3fa78962",
   "metadata": {},
   "outputs": [],
   "source": [
    "customers_rdd = spark.sparkContext.textFile(\"/user/itv019463/data/part-customers\")"
   ]
  },
  {
   "cell_type": "code",
   "execution_count": 5,
   "id": "ba7d6a07",
   "metadata": {},
   "outputs": [],
   "source": [
    "orders_mapped = orders_rdd.map(lambda x: (x.split(\",\")[2], x.split(\",\")[3]))"
   ]
  },
  {
   "cell_type": "code",
   "execution_count": 6,
   "id": "c1a19f17",
   "metadata": {},
   "outputs": [],
   "source": [
    "customers_mapped = customers_rdd.map(lambda x: (x.split(\",\")[0], x.split(\",\")[8]))"
   ]
  },
  {
   "cell_type": "code",
   "execution_count": 7,
   "id": "8ded1f19",
   "metadata": {},
   "outputs": [],
   "source": [
    "joined_rdd = customers_mapped.join(orders_mapped)"
   ]
  },
  {
   "cell_type": "code",
   "execution_count": 9,
   "id": "ea492b98",
   "metadata": {},
   "outputs": [],
   "source": [
    "joined_rdd.saveAsTextFile(\"/user/itv019463/data/output/\")"
   ]
  },
  {
   "cell_type": "code",
   "execution_count": 10,
   "id": "9888d7cd",
   "metadata": {},
   "outputs": [],
   "source": [
    "spark.stop()"
   ]
  },
  {
   "cell_type": "code",
   "execution_count": null,
   "id": "4cef5e6f",
   "metadata": {},
   "outputs": [],
   "source": []
  }
 ],
 "metadata": {
  "kernelspec": {
   "display_name": "Pyspark 3",
   "language": "python",
   "name": "pyspark3"
  },
  "language_info": {
   "codemirror_mode": {
    "name": "ipython",
    "version": 3
   },
   "file_extension": ".py",
   "mimetype": "text/x-python",
   "name": "python",
   "nbconvert_exporter": "python",
   "pygments_lexer": "ipython3",
   "version": "3.6.12"
  }
 },
 "nbformat": 4,
 "nbformat_minor": 5
}
