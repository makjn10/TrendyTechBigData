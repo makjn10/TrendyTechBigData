{
 "cells": [
  {
   "cell_type": "code",
   "execution_count": 1,
   "id": "e7f2ed5f",
   "metadata": {},
   "outputs": [],
   "source": [
    "from pyspark.sql import SparkSession\n",
    "import getpass\n",
    "\n",
    "username = getpass.getuser()\n",
    "\n",
    "spark = SparkSession. \\\n",
    "    builder. \\\n",
    "    config('spark.ui.port','0'). \\\n",
    "    config(\"spark.sql.warehouse.dir\", f\"/user/{username}/warehouse\"). \\\n",
    "    enableHiveSupport(). \\\n",
    "    master('yarn'). \\\n",
    "    getOrCreate()"
   ]
  },
  {
   "cell_type": "code",
   "execution_count": 2,
   "id": "280e288d",
   "metadata": {},
   "outputs": [],
   "source": [
    "# Data : 4,2013-07-25 00:00:00.0,8827,CLOSED"
   ]
  },
  {
   "cell_type": "code",
   "execution_count": 3,
   "id": "65591a39",
   "metadata": {},
   "outputs": [],
   "source": [
    "# Count the orders in each category\n",
    "# Find the premium customers (top 10 who places the most no. of orders)\n",
    "# Distinct count of customers who placed at least one order\n",
    "# Which customer has the maximum number of CLOSED orders "
   ]
  },
  {
   "cell_type": "code",
   "execution_count": 4,
   "id": "faa263de",
   "metadata": {},
   "outputs": [
    {
     "data": {
      "text/html": [
       "\n",
       "            <div>\n",
       "                <p><b>SparkSession - hive</b></p>\n",
       "                \n",
       "        <div>\n",
       "            <p><b>SparkContext</b></p>\n",
       "\n",
       "            <p><a href=\"http://g01.itversity.com:36271\">Spark UI</a></p>\n",
       "\n",
       "            <dl>\n",
       "              <dt>Version</dt>\n",
       "                <dd><code>v3.1.2</code></dd>\n",
       "              <dt>Master</dt>\n",
       "                <dd><code>yarn</code></dd>\n",
       "              <dt>AppName</dt>\n",
       "                <dd><code>pyspark-shell</code></dd>\n",
       "            </dl>\n",
       "        </div>\n",
       "        \n",
       "            </div>\n",
       "        "
      ],
      "text/plain": [
       "<pyspark.sql.session.SparkSession at 0x7fa8f5d09f98>"
      ]
     },
     "execution_count": 4,
     "metadata": {},
     "output_type": "execute_result"
    }
   ],
   "source": [
    "spark"
   ]
  },
  {
   "cell_type": "code",
   "execution_count": 5,
   "id": "8ecefa77",
   "metadata": {},
   "outputs": [],
   "source": [
    "rdd1 = spark.sparkContext.textFile(\"/user/itv019463/TrendyTechBigData/Week4/data/part-00000\")"
   ]
  },
  {
   "cell_type": "code",
   "execution_count": 6,
   "id": "7468420b",
   "metadata": {},
   "outputs": [
    {
     "name": "stdout",
     "output_type": "stream",
     "text": [
      "['1,2013-07-25 00:00:00.0,11599,CLOSED', '2,2013-07-25 00:00:00.0,256,PENDING_PAYMENT', '3,2013-07-25 00:00:00.0,12111,COMPLETE', '4,2013-07-25 00:00:00.0,8827,CLOSED', '5,2013-07-25 00:00:00.0,11318,COMPLETE']\n"
     ]
    }
   ],
   "source": [
    "print(rdd1.take(5))"
   ]
  },
  {
   "cell_type": "code",
   "execution_count": 7,
   "id": "1ff1c399",
   "metadata": {},
   "outputs": [],
   "source": [
    "rdd2 = rdd1.map(lambda x: (x.split(\",\")[3], 1))"
   ]
  },
  {
   "cell_type": "code",
   "execution_count": 8,
   "id": "3c4ad26d",
   "metadata": {},
   "outputs": [
    {
     "name": "stdout",
     "output_type": "stream",
     "text": [
      "[('CLOSED', 1), ('PENDING_PAYMENT', 1), ('COMPLETE', 1), ('CLOSED', 1), ('COMPLETE', 1)]\n"
     ]
    }
   ],
   "source": [
    "print(rdd2.take(5))"
   ]
  },
  {
   "cell_type": "code",
   "execution_count": 9,
   "id": "7044ddf4",
   "metadata": {},
   "outputs": [],
   "source": [
    "rdd3 = rdd2.reduceByKey(lambda x, y: x + y)"
   ]
  },
  {
   "cell_type": "code",
   "execution_count": 10,
   "id": "cc708f35",
   "metadata": {},
   "outputs": [
    {
     "name": "stdout",
     "output_type": "stream",
     "text": [
      "[('CLOSED', 7556), ('CANCELED', 1428), ('PENDING_PAYMENT', 15030), ('COMPLETE', 22899), ('PROCESSING', 8275), ('PAYMENT_REVIEW', 729), ('PENDING', 7610), ('ON_HOLD', 3798), ('SUSPECTED_FRAUD', 1558)]\n"
     ]
    }
   ],
   "source": [
    "print(rdd3.collect())"
   ]
  },
  {
   "cell_type": "code",
   "execution_count": null,
   "id": "c1e2761d",
   "metadata": {},
   "outputs": [],
   "source": []
  },
  {
   "cell_type": "code",
   "execution_count": null,
   "id": "7114a868",
   "metadata": {},
   "outputs": [],
   "source": []
  },
  {
   "cell_type": "code",
   "execution_count": 11,
   "id": "bcbd30a0",
   "metadata": {},
   "outputs": [],
   "source": [
    "x1 = spark.sparkContext.textFile(\"/user/itv019463/TrendyTechBigData/Week4/data/part-00000\")"
   ]
  },
  {
   "cell_type": "code",
   "execution_count": 12,
   "id": "5f7414eb",
   "metadata": {},
   "outputs": [],
   "source": [
    "x2 = x1.map(lambda x: (x.split(\",\")[2], 1))"
   ]
  },
  {
   "cell_type": "code",
   "execution_count": 13,
   "id": "ef040da7",
   "metadata": {},
   "outputs": [],
   "source": [
    "x3 = x2.reduceByKey(lambda x, y: x + y)"
   ]
  },
  {
   "cell_type": "code",
   "execution_count": 14,
   "id": "9631bda3",
   "metadata": {},
   "outputs": [],
   "source": [
    "x4 = x3.sortBy(lambda x : x[1], ascending=False)"
   ]
  },
  {
   "cell_type": "code",
   "execution_count": 15,
   "id": "c734bf9f",
   "metadata": {},
   "outputs": [
    {
     "name": "stdout",
     "output_type": "stream",
     "text": [
      "[('5897', 16), ('6316', 16), ('12431', 16), ('569', 16), ('4320', 15), ('221', 15), ('5624', 15), ('5283', 15), ('12284', 15), ('5654', 15)]\n"
     ]
    }
   ],
   "source": [
    "print(x4.take(10))"
   ]
  },
  {
   "cell_type": "code",
   "execution_count": null,
   "id": "6739254a",
   "metadata": {},
   "outputs": [],
   "source": []
  },
  {
   "cell_type": "code",
   "execution_count": null,
   "id": "89917a95",
   "metadata": {},
   "outputs": [],
   "source": []
  },
  {
   "cell_type": "code",
   "execution_count": 16,
   "id": "c193017a",
   "metadata": {},
   "outputs": [],
   "source": [
    "x5 = x3.filter(lambda x : x[1] > 0)"
   ]
  },
  {
   "cell_type": "code",
   "execution_count": 17,
   "id": "bc179f48",
   "metadata": {},
   "outputs": [
    {
     "name": "stdout",
     "output_type": "stream",
     "text": [
      "12405\n"
     ]
    }
   ],
   "source": [
    "print(x5.count())"
   ]
  },
  {
   "cell_type": "code",
   "execution_count": null,
   "id": "01fe7ff8",
   "metadata": {},
   "outputs": [],
   "source": []
  },
  {
   "cell_type": "code",
   "execution_count": null,
   "id": "c5c388a9",
   "metadata": {},
   "outputs": [],
   "source": []
  },
  {
   "cell_type": "code",
   "execution_count": 18,
   "id": "fdf95fd0",
   "metadata": {},
   "outputs": [],
   "source": [
    "x6 = x1.map(lambda x : ((x.split(\",\")[2], x.split(\",\")[3]), 1))"
   ]
  },
  {
   "cell_type": "code",
   "execution_count": 19,
   "id": "1c6b7444",
   "metadata": {},
   "outputs": [],
   "source": [
    "x7 = x6.filter(lambda x : x[0][1] == \"CLOSED\")"
   ]
  },
  {
   "cell_type": "code",
   "execution_count": 20,
   "id": "a91c795c",
   "metadata": {},
   "outputs": [],
   "source": [
    "x8 = x7.map(lambda x: (x[0][0], 1))"
   ]
  },
  {
   "cell_type": "code",
   "execution_count": 21,
   "id": "b4e20ce2",
   "metadata": {},
   "outputs": [],
   "source": [
    "x9 = x8.reduceByKey(lambda x, y : x + y)"
   ]
  },
  {
   "cell_type": "code",
   "execution_count": 22,
   "id": "0c754bb7",
   "metadata": {},
   "outputs": [],
   "source": [
    "x10 = x9.sortBy(lambda x : x[1], ascending = False)"
   ]
  },
  {
   "cell_type": "code",
   "execution_count": 23,
   "id": "126c5ed3",
   "metadata": {},
   "outputs": [
    {
     "name": "stdout",
     "output_type": "stream",
     "text": [
      "[('1833', 6), ('1363', 5), ('1687', 5), ('5493', 5), ('5011', 4)]\n"
     ]
    }
   ],
   "source": [
    "print(x10.take(5))"
   ]
  },
  {
   "cell_type": "code",
   "execution_count": null,
   "id": "b36bad1d",
   "metadata": {},
   "outputs": [],
   "source": []
  }
 ],
 "metadata": {
  "kernelspec": {
   "display_name": "Pyspark 3",
   "language": "python",
   "name": "pyspark3"
  },
  "language_info": {
   "codemirror_mode": {
    "name": "ipython",
    "version": 3
   },
   "file_extension": ".py",
   "mimetype": "text/x-python",
   "name": "python",
   "nbconvert_exporter": "python",
   "pygments_lexer": "ipython3",
   "version": "3.6.12"
  }
 },
 "nbformat": 4,
 "nbformat_minor": 5
}
