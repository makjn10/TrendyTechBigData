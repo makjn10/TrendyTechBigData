{
 "cells": [
  {
   "cell_type": "code",
   "execution_count": 1,
   "id": "a8361ee8",
   "metadata": {},
   "outputs": [],
   "source": [
    "from pyspark.sql import SparkSession\n",
    "import getpass\n",
    "\n",
    "username = getpass.getuser()\n",
    "\n",
    "spark = SparkSession. \\\n",
    "    builder. \\\n",
    "    config('spark.ui.port','0'). \\\n",
    "    config(\"spark.sql.warehouse.dir\", f\"/user/{username}/warehouse\"). \\\n",
    "    enableHiveSupport(). \\\n",
    "    master('yarn'). \\\n",
    "    getOrCreate()"
   ]
  },
  {
   "cell_type": "code",
   "execution_count": 2,
   "id": "6ee112cc",
   "metadata": {},
   "outputs": [],
   "source": [
    "words = (\"big\", \"Data\", \"is\", \"SUPER\", \"interesting\", \"BIG\", \"data\", \"is\", \"A\", \"trending\", \"Technology\")"
   ]
  },
  {
   "cell_type": "code",
   "execution_count": 3,
   "id": "c9ce2820",
   "metadata": {},
   "outputs": [],
   "source": [
    "rdd1 = spark.sparkContext.parallelize(words)"
   ]
  },
  {
   "cell_type": "code",
   "execution_count": 4,
   "id": "6f741d68",
   "metadata": {},
   "outputs": [
    {
     "data": {
      "text/plain": [
       "2"
      ]
     },
     "execution_count": 4,
     "metadata": {},
     "output_type": "execute_result"
    }
   ],
   "source": [
    "rdd1.getNumPartitions()"
   ]
  },
  {
   "cell_type": "code",
   "execution_count": 5,
   "id": "73da47e0",
   "metadata": {},
   "outputs": [
    {
     "data": {
      "text/plain": [
       "2"
      ]
     },
     "execution_count": 5,
     "metadata": {},
     "output_type": "execute_result"
    }
   ],
   "source": [
    "spark.sparkContext.defaultParallelism"
   ]
  },
  {
   "cell_type": "code",
   "execution_count": 6,
   "id": "638a4cd2",
   "metadata": {},
   "outputs": [],
   "source": [
    "rdd2 = spark.sparkContext.textFile(\"/user/itv019463/TrendyTechBigData/Week4/data/part-00000\")"
   ]
  },
  {
   "cell_type": "code",
   "execution_count": 7,
   "id": "7fcbde00",
   "metadata": {},
   "outputs": [
    {
     "data": {
      "text/plain": [
       "2"
      ]
     },
     "execution_count": 7,
     "metadata": {},
     "output_type": "execute_result"
    }
   ],
   "source": [
    "rdd2.getNumPartitions()"
   ]
  },
  {
   "cell_type": "code",
   "execution_count": 8,
   "id": "3d1f2739",
   "metadata": {},
   "outputs": [
    {
     "data": {
      "text/plain": [
       "2"
      ]
     },
     "execution_count": 8,
     "metadata": {},
     "output_type": "execute_result"
    }
   ],
   "source": [
    "spark.sparkContext.defaultMinPartitions"
   ]
  },
  {
   "cell_type": "code",
   "execution_count": null,
   "id": "09abe13b",
   "metadata": {},
   "outputs": [],
   "source": []
  },
  {
   "cell_type": "code",
   "execution_count": null,
   "id": "e3358e04",
   "metadata": {},
   "outputs": [],
   "source": []
  },
  {
   "cell_type": "code",
   "execution_count": 9,
   "id": "f821fa77",
   "metadata": {},
   "outputs": [],
   "source": [
    "orders_rdd = spark.sparkContext.textFile(\"/user/itv019463/TrendyTechBigData/Week4/data/part-00000\")"
   ]
  },
  {
   "cell_type": "code",
   "execution_count": 10,
   "id": "74f5b521",
   "metadata": {},
   "outputs": [],
   "source": [
    "orders_mapped = orders_rdd.map(lambda x: (x.split(\",\")[3], 1))"
   ]
  },
  {
   "cell_type": "code",
   "execution_count": 11,
   "id": "1d32dad9",
   "metadata": {},
   "outputs": [],
   "source": [
    "orders_reduced = orders_mapped.reduceByKey(lambda x, y: x + y)"
   ]
  },
  {
   "cell_type": "code",
   "execution_count": 12,
   "id": "ce3e9c6b",
   "metadata": {},
   "outputs": [
    {
     "data": {
      "text/plain": [
       "[('CLOSED', 7556),\n",
       " ('CANCELED', 1428),\n",
       " ('COMPLETE', 22899),\n",
       " ('PENDING_PAYMENT', 15030),\n",
       " ('SUSPECTED_FRAUD', 1558),\n",
       " ('PENDING', 7610),\n",
       " ('ON_HOLD', 3798),\n",
       " ('PROCESSING', 8275),\n",
       " ('PAYMENT_REVIEW', 729)]"
      ]
     },
     "execution_count": 12,
     "metadata": {},
     "output_type": "execute_result"
    }
   ],
   "source": [
    "orders_reduced.collect()"
   ]
  },
  {
   "cell_type": "code",
   "execution_count": null,
   "id": "fd9b3c59",
   "metadata": {},
   "outputs": [],
   "source": []
  },
  {
   "cell_type": "code",
   "execution_count": null,
   "id": "0e000020",
   "metadata": {},
   "outputs": [],
   "source": []
  },
  {
   "cell_type": "code",
   "execution_count": 13,
   "id": "65413943",
   "metadata": {},
   "outputs": [],
   "source": [
    "orders_rdd = spark.sparkContext.textFile(\"/user/itv019463/TrendyTechBigData/Week4/data/part-00000\")"
   ]
  },
  {
   "cell_type": "code",
   "execution_count": 14,
   "id": "6dcf1d80",
   "metadata": {},
   "outputs": [],
   "source": [
    "orders_mapped = orders_rdd.map(lambda x: x.split(\",\")[3])"
   ]
  },
  {
   "cell_type": "code",
   "execution_count": 15,
   "id": "1341b186",
   "metadata": {},
   "outputs": [
    {
     "data": {
      "text/plain": [
       "['CLOSED', 'PENDING_PAYMENT', 'COMPLETE', 'CLOSED', 'COMPLETE']"
      ]
     },
     "execution_count": 15,
     "metadata": {},
     "output_type": "execute_result"
    }
   ],
   "source": [
    "orders_mapped.take(5)"
   ]
  },
  {
   "cell_type": "code",
   "execution_count": 16,
   "id": "c06c4e99",
   "metadata": {},
   "outputs": [
    {
     "data": {
      "text/plain": [
       "defaultdict(int,\n",
       "            {'CLOSED': 7556,\n",
       "             'PENDING_PAYMENT': 15030,\n",
       "             'COMPLETE': 22899,\n",
       "             'PROCESSING': 8275,\n",
       "             'PAYMENT_REVIEW': 729,\n",
       "             'PENDING': 7610,\n",
       "             'ON_HOLD': 3798,\n",
       "             'CANCELED': 1428,\n",
       "             'SUSPECTED_FRAUD': 1558})"
      ]
     },
     "execution_count": 16,
     "metadata": {},
     "output_type": "execute_result"
    }
   ],
   "source": [
    "orders_mapped.countByValue()"
   ]
  },
  {
   "cell_type": "code",
   "execution_count": 17,
   "id": "c81ab8ca",
   "metadata": {},
   "outputs": [],
   "source": [
    "spark.stop()"
   ]
  },
  {
   "cell_type": "code",
   "execution_count": null,
   "id": "a2225c6f",
   "metadata": {},
   "outputs": [],
   "source": []
  }
 ],
 "metadata": {
  "kernelspec": {
   "display_name": "Pyspark 3",
   "language": "python",
   "name": "pyspark3"
  },
  "language_info": {
   "codemirror_mode": {
    "name": "ipython",
    "version": 3
   },
   "file_extension": ".py",
   "mimetype": "text/x-python",
   "name": "python",
   "nbconvert_exporter": "python",
   "pygments_lexer": "ipython3",
   "version": "3.6.12"
  }
 },
 "nbformat": 4,
 "nbformat_minor": 5
}
