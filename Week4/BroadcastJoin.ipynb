{
 "cells": [
  {
   "cell_type": "code",
   "execution_count": 1,
   "id": "aad8cb4e",
   "metadata": {},
   "outputs": [],
   "source": [
    "from pyspark.sql import SparkSession\n",
    "import getpass\n",
    "\n",
    "username = getpass.getuser()\n",
    "\n",
    "spark = SparkSession. \\\n",
    "    builder. \\\n",
    "    config('spark.ui.port','0'). \\\n",
    "    config(\"spark.sql.warehouse.dir\", f\"/user/{username}/warehouse\"). \\\n",
    "    enableHiveSupport(). \\\n",
    "    master('yarn'). \\\n",
    "    getOrCreate()"
   ]
  },
  {
   "cell_type": "code",
   "execution_count": 2,
   "id": "695f17c8",
   "metadata": {},
   "outputs": [],
   "source": [
    "orders_rdd = spark.sparkContext.textFile(\"/user/itv019463/TrendyTechBigData/Week4/data/orders_1gb.csv\")"
   ]
  },
  {
   "cell_type": "code",
   "execution_count": 3,
   "id": "f40d6a27",
   "metadata": {},
   "outputs": [],
   "source": [
    "customers_rdd = spark.sparkContext.textFile(\"/user/itv019463/TrendyTechBigData/Week4/data/part-customers\")"
   ]
  },
  {
   "cell_type": "code",
   "execution_count": 4,
   "id": "c34bb02e",
   "metadata": {},
   "outputs": [],
   "source": [
    "customers_mapped = customers_rdd.map(lambda x: (x.split(\",\")[0], x.split(\",\")[8]))"
   ]
  },
  {
   "cell_type": "code",
   "execution_count": 5,
   "id": "f5f4fa28",
   "metadata": {},
   "outputs": [],
   "source": [
    "customers_broadcast = spark.sparkContext.broadcast(customers_mapped.collect())"
   ]
  },
  {
   "cell_type": "code",
   "execution_count": 6,
   "id": "cc5f74e4",
   "metadata": {},
   "outputs": [],
   "source": [
    "def get_pincode(cust_id):\n",
    "    try:\n",
    "        return customers_broadcast.value[cust_id]\n",
    "    except:\n",
    "        return \"-1\""
   ]
  },
  {
   "cell_type": "code",
   "execution_count": 7,
   "id": "c9530c72",
   "metadata": {},
   "outputs": [],
   "source": [
    "orders_mapped = orders_rdd.map(lambda x: (x.split(\",\")[2], x.split(\",\")[3]))"
   ]
  },
  {
   "cell_type": "code",
   "execution_count": 8,
   "id": "e4dee077",
   "metadata": {},
   "outputs": [],
   "source": [
    "joined_rdd = orders_mapped.map(lambda x: (get_pincode(int(x[0])), x[1]))"
   ]
  },
  {
   "cell_type": "code",
   "execution_count": 9,
   "id": "db19d091",
   "metadata": {},
   "outputs": [],
   "source": [
    "joined_rdd.saveAsTextFile(\"/user/itv019463/TrendyTechBigData/Week4/data/outputBroadcast/\")"
   ]
  },
  {
   "cell_type": "code",
   "execution_count": 10,
   "id": "24fa1b08",
   "metadata": {},
   "outputs": [],
   "source": [
    "spark.stop()"
   ]
  },
  {
   "cell_type": "code",
   "execution_count": null,
   "id": "fa846a46",
   "metadata": {},
   "outputs": [],
   "source": []
  }
 ],
 "metadata": {
  "kernelspec": {
   "display_name": "Pyspark 3",
   "language": "python",
   "name": "pyspark3"
  },
  "language_info": {
   "codemirror_mode": {
    "name": "ipython",
    "version": 3
   },
   "file_extension": ".py",
   "mimetype": "text/x-python",
   "name": "python",
   "nbconvert_exporter": "python",
   "pygments_lexer": "ipython3",
   "version": "3.6.12"
  }
 },
 "nbformat": 4,
 "nbformat_minor": 5
}
