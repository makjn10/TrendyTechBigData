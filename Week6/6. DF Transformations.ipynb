{
 "cells": [
  {
   "cell_type": "code",
   "execution_count": 1,
   "id": "12c6be74",
   "metadata": {},
   "outputs": [],
   "source": [
    "from pyspark.sql import SparkSession\n",
    "import getpass\n",
    "username = getpass.getuser()\n",
    "spark = SparkSession. \\\n",
    "    builder. \\\n",
    "    config('spark.ui.port','0'). \\\n",
    "    config(\"spark.sql.warehouse.dir\", f\"/user/{username}/warehouse\"). \\\n",
    "    enableHiveSupport(). \\\n",
    "    master('yarn'). \\\n",
    "    getOrCreate()"
   ]
  },
  {
   "cell_type": "code",
   "execution_count": 2,
   "id": "4aa359cd",
   "metadata": {},
   "outputs": [],
   "source": [
    "raw_df = spark.read \\\n",
    ".format(\"csv\") \\\n",
    ".option(\"inferSchema\", \"true\") \\\n",
    ".load(\"/user/itv019463/TrendyTechBigData/Week6/data/order_items/part-00000\")"
   ]
  },
  {
   "cell_type": "code",
   "execution_count": 3,
   "id": "cab9271f",
   "metadata": {},
   "outputs": [
    {
     "name": "stdout",
     "output_type": "stream",
     "text": [
      "+---+---+----+---+------+------+\n",
      "|_c0|_c1| _c2|_c3|   _c4|   _c5|\n",
      "+---+---+----+---+------+------+\n",
      "|  1|  1| 957|  1|299.98|299.98|\n",
      "|  2|  2|1073|  1|199.99|199.99|\n",
      "|  3|  2| 502|  5| 250.0|  50.0|\n",
      "|  4|  2| 403|  1|129.99|129.99|\n",
      "|  5|  4| 897|  2| 49.98| 24.99|\n",
      "+---+---+----+---+------+------+\n",
      "only showing top 5 rows\n",
      "\n"
     ]
    }
   ],
   "source": [
    "raw_df.show(5)"
   ]
  },
  {
   "cell_type": "code",
   "execution_count": 4,
   "id": "1e36aa1d",
   "metadata": {},
   "outputs": [
    {
     "name": "stdout",
     "output_type": "stream",
     "text": [
      "root\n",
      " |-- _c0: integer (nullable = true)\n",
      " |-- _c1: integer (nullable = true)\n",
      " |-- _c2: integer (nullable = true)\n",
      " |-- _c3: integer (nullable = true)\n",
      " |-- _c4: double (nullable = true)\n",
      " |-- _c5: double (nullable = true)\n",
      "\n"
     ]
    }
   ],
   "source": [
    "raw_df.printSchema()"
   ]
  },
  {
   "cell_type": "code",
   "execution_count": 5,
   "id": "9122d1f5",
   "metadata": {},
   "outputs": [],
   "source": [
    "refined_df = raw_df.toDF(\"order_item_id\", \"order_id\", \"product_id\", \"quantity\", \"subtotal\", \"product_price\")"
   ]
  },
  {
   "cell_type": "code",
   "execution_count": 6,
   "id": "5ee1ec11",
   "metadata": {},
   "outputs": [
    {
     "name": "stdout",
     "output_type": "stream",
     "text": [
      "+-------------+--------+----------+--------+--------+-------------+\n",
      "|order_item_id|order_id|product_id|quantity|subtotal|product_price|\n",
      "+-------------+--------+----------+--------+--------+-------------+\n",
      "|            1|       1|       957|       1|  299.98|       299.98|\n",
      "|            2|       2|      1073|       1|  199.99|       199.99|\n",
      "|            3|       2|       502|       5|   250.0|         50.0|\n",
      "|            4|       2|       403|       1|  129.99|       129.99|\n",
      "|            5|       4|       897|       2|   49.98|        24.99|\n",
      "+-------------+--------+----------+--------+--------+-------------+\n",
      "only showing top 5 rows\n",
      "\n"
     ]
    }
   ],
   "source": [
    "refined_df.show(5)"
   ]
  },
  {
   "cell_type": "code",
   "execution_count": 7,
   "id": "ef301e77",
   "metadata": {},
   "outputs": [
    {
     "name": "stdout",
     "output_type": "stream",
     "text": [
      "root\n",
      " |-- order_item_id: integer (nullable = true)\n",
      " |-- order_id: integer (nullable = true)\n",
      " |-- product_id: integer (nullable = true)\n",
      " |-- quantity: integer (nullable = true)\n",
      " |-- subtotal: double (nullable = true)\n",
      " |-- product_price: double (nullable = true)\n",
      "\n"
     ]
    }
   ],
   "source": [
    "refined_df.printSchema()"
   ]
  },
  {
   "cell_type": "code",
   "execution_count": null,
   "id": "af7e973c",
   "metadata": {},
   "outputs": [],
   "source": []
  },
  {
   "cell_type": "code",
   "execution_count": 8,
   "id": "6cb3b515",
   "metadata": {},
   "outputs": [],
   "source": [
    "df1 = refined_df.drop(\"subtotal\")"
   ]
  },
  {
   "cell_type": "code",
   "execution_count": 9,
   "id": "560c1ade",
   "metadata": {},
   "outputs": [
    {
     "name": "stdout",
     "output_type": "stream",
     "text": [
      "+-------------+--------+----------+--------+-------------+\n",
      "|order_item_id|order_id|product_id|quantity|product_price|\n",
      "+-------------+--------+----------+--------+-------------+\n",
      "|            1|       1|       957|       1|       299.98|\n",
      "|            2|       2|      1073|       1|       199.99|\n",
      "|            3|       2|       502|       5|         50.0|\n",
      "|            4|       2|       403|       1|       129.99|\n",
      "|            5|       4|       897|       2|        24.99|\n",
      "+-------------+--------+----------+--------+-------------+\n",
      "only showing top 5 rows\n",
      "\n"
     ]
    }
   ],
   "source": [
    "df1.show(5)"
   ]
  },
  {
   "cell_type": "code",
   "execution_count": null,
   "id": "f45810d6",
   "metadata": {},
   "outputs": [],
   "source": []
  },
  {
   "cell_type": "code",
   "execution_count": null,
   "id": "651824e7",
   "metadata": {},
   "outputs": [],
   "source": []
  },
  {
   "cell_type": "code",
   "execution_count": 10,
   "id": "b1337ba9",
   "metadata": {},
   "outputs": [
    {
     "name": "stdout",
     "output_type": "stream",
     "text": [
      "+-------------+--------+----------+\n",
      "|order_item_id|order_id|product_id|\n",
      "+-------------+--------+----------+\n",
      "|            1|       1|       957|\n",
      "|            2|       2|      1073|\n",
      "|            3|       2|       502|\n",
      "|            4|       2|       403|\n",
      "|            5|       4|       897|\n",
      "+-------------+--------+----------+\n",
      "only showing top 5 rows\n",
      "\n"
     ]
    }
   ],
   "source": [
    "df1.select(\"order_item_id\", \"order_id\", \"product_id\").show(5)"
   ]
  },
  {
   "cell_type": "code",
   "execution_count": null,
   "id": "42b6051c",
   "metadata": {},
   "outputs": [],
   "source": []
  },
  {
   "cell_type": "code",
   "execution_count": 11,
   "id": "f9e98841",
   "metadata": {},
   "outputs": [],
   "source": [
    "from pyspark.sql.functions import *"
   ]
  },
  {
   "cell_type": "code",
   "execution_count": 12,
   "id": "3e2548a3",
   "metadata": {},
   "outputs": [
    {
     "name": "stdout",
     "output_type": "stream",
     "text": [
      "+-------------+--------+----------+--------+-------------+--------+\n",
      "|order_item_id|order_id|product_id|quantity|product_price|subtotal|\n",
      "+-------------+--------+----------+--------+-------------+--------+\n",
      "|            1|       1|       957|       1|       299.98|  299.98|\n",
      "|            2|       2|      1073|       1|       199.99|  199.99|\n",
      "|            3|       2|       502|       5|         50.0|   250.0|\n",
      "|            4|       2|       403|       1|       129.99|  129.99|\n",
      "|            5|       4|       897|       2|        24.99|   49.98|\n",
      "+-------------+--------+----------+--------+-------------+--------+\n",
      "only showing top 5 rows\n",
      "\n"
     ]
    }
   ],
   "source": [
    "df1.select(\"*\", expr(\"product_price * quantity as subtotal\")).show(5)"
   ]
  },
  {
   "cell_type": "code",
   "execution_count": 15,
   "id": "c5c3d63e",
   "metadata": {},
   "outputs": [
    {
     "name": "stdout",
     "output_type": "stream",
     "text": [
      "+-------------+--------+----------+--------+-------------+--------+\n",
      "|order_item_id|order_id|product_id|quantity|product_price|subtotal|\n",
      "+-------------+--------+----------+--------+-------------+--------+\n",
      "|            1|       1|       957|       1|       299.98|  299.98|\n",
      "|            2|       2|      1073|       1|       199.99|  199.99|\n",
      "|            3|       2|       502|       5|         50.0|   250.0|\n",
      "|            4|       2|       403|       1|       129.99|  129.99|\n",
      "|            5|       4|       897|       2|        24.99|   49.98|\n",
      "+-------------+--------+----------+--------+-------------+--------+\n",
      "only showing top 5 rows\n",
      "\n"
     ]
    }
   ],
   "source": [
    "df1.selectExpr(\"*\", \"product_price * quantity as subtotal\").show(5)"
   ]
  },
  {
   "cell_type": "code",
   "execution_count": null,
   "id": "a72fe1b0",
   "metadata": {},
   "outputs": [],
   "source": []
  },
  {
   "cell_type": "code",
   "execution_count": null,
   "id": "81ad13b7",
   "metadata": {},
   "outputs": [],
   "source": []
  },
  {
   "cell_type": "code",
   "execution_count": null,
   "id": "a63270df",
   "metadata": {},
   "outputs": [],
   "source": []
  },
  {
   "cell_type": "code",
   "execution_count": 16,
   "id": "b73bbba5",
   "metadata": {},
   "outputs": [],
   "source": [
    "products_df = spark.read \\\n",
    ".format(\"csv\") \\\n",
    ".option(\"inferSchema\", \"true\") \\\n",
    ".load(\"/public/trendytech/retail_db/products/part-00000\")"
   ]
  },
  {
   "cell_type": "code",
   "execution_count": 18,
   "id": "c8b26eb3",
   "metadata": {},
   "outputs": [
    {
     "name": "stdout",
     "output_type": "stream",
     "text": [
      "+---+---+---------------------------------------------+----+------+-------------------------------------------------------------------------------------+\n",
      "|_c0|_c1|_c2                                          |_c3 |_c4   |_c5                                                                                  |\n",
      "+---+---+---------------------------------------------+----+------+-------------------------------------------------------------------------------------+\n",
      "|1  |2  |Quest Q64 10 FT. x 10 FT. Slant Leg Instant U|null|59.98 |http://images.acmesports.sports/Quest+Q64+10+FT.+x+10+FT.+Slant+Leg+Instant+Up+Canopy|\n",
      "|2  |2  |Under Armour Men's Highlight MC Football Clea|null|129.99|http://images.acmesports.sports/Under+Armour+Men%27s+Highlight+MC+Football+Cleat     |\n",
      "|3  |2  |Under Armour Men's Renegade D Mid Football Cl|null|89.99 |http://images.acmesports.sports/Under+Armour+Men%27s+Renegade+D+Mid+Football+Cleat   |\n",
      "|4  |2  |Under Armour Men's Renegade D Mid Football Cl|null|89.99 |http://images.acmesports.sports/Under+Armour+Men%27s+Renegade+D+Mid+Football+Cleat   |\n",
      "|5  |2  |Riddell Youth Revolution Speed Custom Footbal|null|199.99|http://images.acmesports.sports/Riddell+Youth+Revolution+Speed+Custom+Football+Helmet|\n",
      "+---+---+---------------------------------------------+----+------+-------------------------------------------------------------------------------------+\n",
      "only showing top 5 rows\n",
      "\n"
     ]
    }
   ],
   "source": [
    "products_df.show(5, truncate = False)"
   ]
  },
  {
   "cell_type": "code",
   "execution_count": 19,
   "id": "32a17868",
   "metadata": {},
   "outputs": [
    {
     "name": "stdout",
     "output_type": "stream",
     "text": [
      "root\n",
      " |-- _c0: integer (nullable = true)\n",
      " |-- _c1: integer (nullable = true)\n",
      " |-- _c2: string (nullable = true)\n",
      " |-- _c3: string (nullable = true)\n",
      " |-- _c4: double (nullable = true)\n",
      " |-- _c5: string (nullable = true)\n",
      "\n"
     ]
    }
   ],
   "source": [
    "products_df.printSchema()"
   ]
  },
  {
   "cell_type": "code",
   "execution_count": 21,
   "id": "ee648120",
   "metadata": {},
   "outputs": [],
   "source": [
    "df1 = products_df.toDF(\"product_id\", \"product_category_id\", \"product_name\", \"product_description\", \"product_price\", \"product_image\")"
   ]
  },
  {
   "cell_type": "code",
   "execution_count": 22,
   "id": "4f64b827",
   "metadata": {},
   "outputs": [
    {
     "name": "stdout",
     "output_type": "stream",
     "text": [
      "+----------+-------------------+--------------------+-------------------+-------------+--------------------+\n",
      "|product_id|product_category_id|        product_name|product_description|product_price|       product_image|\n",
      "+----------+-------------------+--------------------+-------------------+-------------+--------------------+\n",
      "|         1|                  2|Quest Q64 10 FT. ...|               null|        59.98|http://images.acm...|\n",
      "|         2|                  2|Under Armour Men'...|               null|       129.99|http://images.acm...|\n",
      "|         3|                  2|Under Armour Men'...|               null|        89.99|http://images.acm...|\n",
      "|         4|                  2|Under Armour Men'...|               null|        89.99|http://images.acm...|\n",
      "|         5|                  2|Riddell Youth Rev...|               null|       199.99|http://images.acm...|\n",
      "+----------+-------------------+--------------------+-------------------+-------------+--------------------+\n",
      "only showing top 5 rows\n",
      "\n"
     ]
    }
   ],
   "source": [
    "df1.show(5)"
   ]
  },
  {
   "cell_type": "code",
   "execution_count": 23,
   "id": "0d3a83e8",
   "metadata": {},
   "outputs": [
    {
     "name": "stdout",
     "output_type": "stream",
     "text": [
      "root\n",
      " |-- product_id: integer (nullable = true)\n",
      " |-- product_category_id: integer (nullable = true)\n",
      " |-- product_name: string (nullable = true)\n",
      " |-- product_description: string (nullable = true)\n",
      " |-- product_price: double (nullable = true)\n",
      " |-- product_image: string (nullable = true)\n",
      "\n"
     ]
    }
   ],
   "source": [
    "df1.printSchema()"
   ]
  },
  {
   "cell_type": "code",
   "execution_count": null,
   "id": "b5852e1c",
   "metadata": {},
   "outputs": [],
   "source": []
  },
  {
   "cell_type": "code",
   "execution_count": 26,
   "id": "98881d57",
   "metadata": {},
   "outputs": [],
   "source": [
    "df2 = df1.withColumn(\"product_price\", expr(\"product_price * 1.2\"))"
   ]
  },
  {
   "cell_type": "code",
   "execution_count": 28,
   "id": "b4c18a1b",
   "metadata": {},
   "outputs": [
    {
     "name": "stdout",
     "output_type": "stream",
     "text": [
      "+----------+-------------------+--------------------+-------------------+-------------+--------------------+\n",
      "|product_id|product_category_id|        product_name|product_description|product_price|       product_image|\n",
      "+----------+-------------------+--------------------+-------------------+-------------+--------------------+\n",
      "|         1|                  2|Quest Q64 10 FT. ...|               null|       71.976|http://images.acm...|\n",
      "|         2|                  2|Under Armour Men'...|               null|      155.988|http://images.acm...|\n",
      "+----------+-------------------+--------------------+-------------------+-------------+--------------------+\n",
      "only showing top 2 rows\n",
      "\n"
     ]
    }
   ],
   "source": [
    "df2.show(2)"
   ]
  },
  {
   "cell_type": "code",
   "execution_count": null,
   "id": "517a99db",
   "metadata": {},
   "outputs": [],
   "source": []
  },
  {
   "cell_type": "code",
   "execution_count": 34,
   "id": "02677830",
   "metadata": {},
   "outputs": [],
   "source": [
    "new_df = df1.withColumn(\"product_price\", expr(\"case when product_name like '%Nike%' then product_price * 1.2 when product_name like '%Armour%' then product_price * 1.1 else product_price end\"))"
   ]
  },
  {
   "cell_type": "code",
   "execution_count": 35,
   "id": "368313c0",
   "metadata": {},
   "outputs": [
    {
     "name": "stdout",
     "output_type": "stream",
     "text": [
      "+----------+-------------------+--------------------+-------------------+------------------+--------------------+\n",
      "|product_id|product_category_id|        product_name|product_description|     product_price|       product_image|\n",
      "+----------+-------------------+--------------------+-------------------+------------------+--------------------+\n",
      "|         1|                  2|Quest Q64 10 FT. ...|               null|             59.98|http://images.acm...|\n",
      "|         2|                  2|Under Armour Men'...|               null|142.98900000000003|http://images.acm...|\n",
      "|         3|                  2|Under Armour Men'...|               null|            98.989|http://images.acm...|\n",
      "|         4|                  2|Under Armour Men'...|               null|            98.989|http://images.acm...|\n",
      "|         5|                  2|Riddell Youth Rev...|               null|            199.99|http://images.acm...|\n",
      "|         6|                  2|Jordan Men's VI R...|               null|            134.99|http://images.acm...|\n",
      "|         7|                  2|Schutt Youth Recr...|               null|             99.99|http://images.acm...|\n",
      "|         8|                  2|Nike Men's Vapor ...|               null|           155.988|http://images.acm...|\n",
      "|         9|                  2|Nike Adult Vapor ...|               null|              60.0|http://images.acm...|\n",
      "|        10|                  2|Under Armour Men'...|               null|142.98900000000003|http://images.acm...|\n",
      "|        11|                  2|Fitness Gear 300 ...|               null|            209.99|http://images.acm...|\n",
      "|        12|                  2|Under Armour Men'...|               null|153.98900000000003|http://images.acm...|\n",
      "|        13|                  2|Under Armour Men'...|               null|            98.989|http://images.acm...|\n",
      "|        14|                  2|Quik Shade Summit...|               null|            199.99|http://images.acm...|\n",
      "|        15|                  2|Under Armour Kids...|               null|            65.989|http://images.acm...|\n",
      "|        16|                  2|Riddell Youth 360...|               null|            299.99|http://images.acm...|\n",
      "|        17|                  2|Under Armour Men'...|               null|142.98900000000003|http://images.acm...|\n",
      "|        18|                  2|Reebok Men's Full...|               null|             29.97|http://images.acm...|\n",
      "|        19|                  2|Nike Men's Finger...|               null|           149.988|http://images.acm...|\n",
      "|        20|                  2|Under Armour Men'...|               null|142.98900000000003|http://images.acm...|\n",
      "+----------+-------------------+--------------------+-------------------+------------------+--------------------+\n",
      "only showing top 20 rows\n",
      "\n"
     ]
    }
   ],
   "source": [
    "new_df.show()"
   ]
  },
  {
   "cell_type": "code",
   "execution_count": null,
   "id": "020af9d3",
   "metadata": {},
   "outputs": [],
   "source": []
  }
 ],
 "metadata": {
  "kernelspec": {
   "display_name": "Pyspark 3",
   "language": "python",
   "name": "pyspark3"
  },
  "language_info": {
   "codemirror_mode": {
    "name": "ipython",
    "version": 3
   },
   "file_extension": ".py",
   "mimetype": "text/x-python",
   "name": "python",
   "nbconvert_exporter": "python",
   "pygments_lexer": "ipython3",
   "version": "3.6.12"
  }
 },
 "nbformat": 4,
 "nbformat_minor": 5
}
