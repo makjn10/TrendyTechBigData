{
 "cells": [
  {
   "cell_type": "code",
   "execution_count": 1,
   "id": "0acf6d9a",
   "metadata": {},
   "outputs": [],
   "source": [
    "from pyspark.sql import SparkSession\n",
    "import getpass\n",
    "username = getpass.getuser()\n",
    "spark = SparkSession. \\\n",
    "    builder. \\\n",
    "    config('spark.ui.port','0'). \\\n",
    "    config(\"spark.sql.warehouse.dir\", f\"/user/{username}/warehouse\"). \\\n",
    "    enableHiveSupport(). \\\n",
    "    master('yarn'). \\\n",
    "    getOrCreate()"
   ]
  },
  {
   "cell_type": "code",
   "execution_count": 2,
   "id": "9d4fb0d0",
   "metadata": {},
   "outputs": [],
   "source": [
    "my_list = [\n",
    "    (1,\"Kapil\",34),\n",
    "    (1,\"Kapil\",34),\n",
    "    (1,\"Satish\",26),\n",
    "    (2,\"Satish\",26)\n",
    "]"
   ]
  },
  {
   "cell_type": "code",
   "execution_count": 3,
   "id": "3b19c80f",
   "metadata": {},
   "outputs": [],
   "source": [
    "df = spark.createDataFrame(my_list).toDF(\"id\", \"name\", \"age\")"
   ]
  },
  {
   "cell_type": "code",
   "execution_count": 4,
   "id": "dcbeef5d",
   "metadata": {},
   "outputs": [
    {
     "name": "stdout",
     "output_type": "stream",
     "text": [
      "+---+------+---+\n",
      "| id|  name|age|\n",
      "+---+------+---+\n",
      "|  1| Kapil| 34|\n",
      "|  1| Kapil| 34|\n",
      "|  1|Satish| 26|\n",
      "|  2|Satish| 26|\n",
      "+---+------+---+\n",
      "\n"
     ]
    }
   ],
   "source": [
    "df.show()"
   ]
  },
  {
   "cell_type": "code",
   "execution_count": 5,
   "id": "b69f3478",
   "metadata": {},
   "outputs": [],
   "source": [
    "# Distinct - Check duplication across all columns, that is same rows"
   ]
  },
  {
   "cell_type": "code",
   "execution_count": 6,
   "id": "666ec7d8",
   "metadata": {},
   "outputs": [],
   "source": [
    "df1 = df.distinct()"
   ]
  },
  {
   "cell_type": "code",
   "execution_count": 7,
   "id": "b6157ac9",
   "metadata": {},
   "outputs": [
    {
     "name": "stdout",
     "output_type": "stream",
     "text": [
      "+---+------+---+\n",
      "| id|  name|age|\n",
      "+---+------+---+\n",
      "|  1| Kapil| 34|\n",
      "|  2|Satish| 26|\n",
      "|  1|Satish| 26|\n",
      "+---+------+---+\n",
      "\n"
     ]
    }
   ],
   "source": [
    "df1.show()"
   ]
  },
  {
   "cell_type": "code",
   "execution_count": 8,
   "id": "a02ee7e5",
   "metadata": {},
   "outputs": [],
   "source": [
    "# Consider only based on id column we want to check duplication"
   ]
  },
  {
   "cell_type": "code",
   "execution_count": 9,
   "id": "b7047ca1",
   "metadata": {},
   "outputs": [
    {
     "name": "stdout",
     "output_type": "stream",
     "text": [
      "+---+\n",
      "| id|\n",
      "+---+\n",
      "|  1|\n",
      "|  2|\n",
      "+---+\n",
      "\n"
     ]
    }
   ],
   "source": [
    "df.select(\"id\").distinct().show()"
   ]
  },
  {
   "cell_type": "code",
   "execution_count": 10,
   "id": "783947d2",
   "metadata": {},
   "outputs": [],
   "source": [
    "# dropDuplicates"
   ]
  },
  {
   "cell_type": "code",
   "execution_count": 11,
   "id": "92be2799",
   "metadata": {},
   "outputs": [],
   "source": [
    "newDf = df.dropDuplicates()"
   ]
  },
  {
   "cell_type": "code",
   "execution_count": 12,
   "id": "f9ed1d6c",
   "metadata": {},
   "outputs": [
    {
     "name": "stdout",
     "output_type": "stream",
     "text": [
      "+---+------+---+\n",
      "| id|  name|age|\n",
      "+---+------+---+\n",
      "|  1| Kapil| 34|\n",
      "|  2|Satish| 26|\n",
      "|  1|Satish| 26|\n",
      "+---+------+---+\n",
      "\n"
     ]
    }
   ],
   "source": [
    "newDf.show()"
   ]
  },
  {
   "cell_type": "code",
   "execution_count": 13,
   "id": "8c400dd4",
   "metadata": {},
   "outputs": [
    {
     "name": "stdout",
     "output_type": "stream",
     "text": [
      "+---+------+---+\n",
      "| id|  name|age|\n",
      "+---+------+---+\n",
      "|  1| Kapil| 34|\n",
      "|  1| Kapil| 34|\n",
      "|  1|Satish| 26|\n",
      "|  2|Satish| 26|\n",
      "+---+------+---+\n",
      "\n"
     ]
    }
   ],
   "source": [
    "df.show()"
   ]
  },
  {
   "cell_type": "code",
   "execution_count": 14,
   "id": "1692207d",
   "metadata": {},
   "outputs": [],
   "source": [
    "newDf1 = df.dropDuplicates([\"name\", \"age\"]) # It can drop any record"
   ]
  },
  {
   "cell_type": "code",
   "execution_count": 15,
   "id": "51de8bca",
   "metadata": {},
   "outputs": [
    {
     "name": "stdout",
     "output_type": "stream",
     "text": [
      "+---+------+---+\n",
      "| id|  name|age|\n",
      "+---+------+---+\n",
      "|  1| Kapil| 34|\n",
      "|  1|Satish| 26|\n",
      "+---+------+---+\n",
      "\n"
     ]
    }
   ],
   "source": [
    "newDf1.show()"
   ]
  },
  {
   "cell_type": "code",
   "execution_count": 16,
   "id": "18915778",
   "metadata": {},
   "outputs": [
    {
     "name": "stdout",
     "output_type": "stream",
     "text": [
      "+---+------+---+\n",
      "| id|  name|age|\n",
      "+---+------+---+\n",
      "|  1| Kapil| 34|\n",
      "|  2|Satish| 26|\n",
      "+---+------+---+\n",
      "\n"
     ]
    }
   ],
   "source": [
    "df.dropDuplicates([\"id\"]).show()"
   ]
  },
  {
   "cell_type": "code",
   "execution_count": null,
   "id": "13c58be5",
   "metadata": {},
   "outputs": [],
   "source": []
  }
 ],
 "metadata": {
  "kernelspec": {
   "display_name": "Pyspark 3",
   "language": "python",
   "name": "pyspark3"
  },
  "language_info": {
   "codemirror_mode": {
    "name": "ipython",
    "version": 3
   },
   "file_extension": ".py",
   "mimetype": "text/x-python",
   "name": "python",
   "nbconvert_exporter": "python",
   "pygments_lexer": "ipython3",
   "version": "3.6.12"
  }
 },
 "nbformat": 4,
 "nbformat_minor": 5
}
